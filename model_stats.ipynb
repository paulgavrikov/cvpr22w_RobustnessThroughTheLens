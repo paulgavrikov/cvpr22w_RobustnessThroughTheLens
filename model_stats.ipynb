{
 "cells": [
  {
   "cell_type": "code",
   "execution_count": 2,
   "id": "e65443d8",
   "metadata": {},
   "outputs": [],
   "source": [
    "import numpy as np\n",
    "import pandas as pd\n",
    "from multiprocessing import Pool\n",
    "import matplotlib.pyplot as plt\n",
    "import matplotlib.gridspec as grid_spec\n",
    "from tqdm.auto import tqdm\n",
    "from math import ceil\n",
    "import itertools\n",
    "import h5py\n",
    "import io\n",
    "import robustbench"
   ]
  },
  {
   "cell_type": "code",
   "execution_count": 15,
   "id": "b4ffeba9",
   "metadata": {},
   "outputs": [],
   "source": [
    "dataset_path = \"/data/output/20220226_robustness/dataset.h5\"\n",
    "df_meta = pd.read_hdf(dataset_path, \"meta\")\n",
    "df_meta[\"filter_ids\"] = df_meta[\"filter_ids\"].apply(lambda s: np.arange(int(s.split(\":\")[0]), 1 + int(s.split(\":\")[1])))\n",
    "df_meta.Robust = df_meta.Robust.apply(bool)"
   ]
  },
  {
   "cell_type": "code",
   "execution_count": 3,
   "id": "31d75841",
   "metadata": {},
   "outputs": [],
   "source": [
    "df_pairings = pd.read_csv(\"robust_vs_normal_pairings.csv\", index_col=0)"
   ]
  },
  {
   "cell_type": "code",
   "execution_count": 4,
   "id": "d3da6162",
   "metadata": {},
   "outputs": [
    {
     "data": {
      "text/plain": [
       "71"
      ]
     },
     "execution_count": 4,
     "metadata": {},
     "output_type": "execute_result"
    }
   ],
   "source": [
    "df_pairings.Robust.nunique()"
   ]
  },
  {
   "cell_type": "code",
   "execution_count": 8,
   "id": "6c372c3e",
   "metadata": {},
   "outputs": [
    {
     "data": {
      "text/plain": [
       "13"
      ]
     },
     "execution_count": 8,
     "metadata": {},
     "output_type": "execute_result"
    }
   ],
   "source": [
    "df_pairings.Arch.nunique()"
   ]
  },
  {
   "cell_type": "code",
   "execution_count": 10,
   "id": "ebd402a6",
   "metadata": {},
   "outputs": [
    {
     "data": {
      "text/plain": [
       "3"
      ]
     },
     "execution_count": 10,
     "metadata": {},
     "output_type": "execute_result"
    }
   ],
   "source": [
    "df_pairings.Dataset.nunique()"
   ]
  },
  {
   "cell_type": "code",
   "execution_count": 14,
   "id": "31671f53",
   "metadata": {},
   "outputs": [],
   "source": [
    "all_used_models = set(list(df_pairings.Robust.unique()) + list(df_pairings.Normal.unique()))"
   ]
  },
  {
   "cell_type": "code",
   "execution_count": 17,
   "id": "c175ad14",
   "metadata": {},
   "outputs": [
    {
     "data": {
      "text/plain": [
       "615863744"
      ]
     },
     "execution_count": 17,
     "metadata": {},
     "output_type": "execute_result"
    }
   ],
   "source": [
    "df_meta[df_meta.Name.isin(df_pairings.Robust)].filter_ids.apply(len).sum()"
   ]
  },
  {
   "cell_type": "markdown",
   "id": "1a810a6b",
   "metadata": {},
   "source": [
    "#### Number of models"
   ]
  },
  {
   "cell_type": "code",
   "execution_count": 23,
   "id": "65ac96a7",
   "metadata": {},
   "outputs": [
    {
     "data": {
      "text/plain": [
       "119"
      ]
     },
     "execution_count": 23,
     "metadata": {},
     "output_type": "execute_result"
    }
   ],
   "source": [
    "df_meta.index.get_level_values(0).unique().size"
   ]
  },
  {
   "cell_type": "code",
   "execution_count": 24,
   "id": "84ed3933",
   "metadata": {},
   "outputs": [
    {
     "data": {
      "text/plain": [
       "73"
      ]
     },
     "execution_count": 24,
     "metadata": {},
     "output_type": "execute_result"
    }
   ],
   "source": [
    "df_meta[df_meta.Robust].index.get_level_values(0).unique().size"
   ]
  },
  {
   "cell_type": "code",
   "execution_count": 25,
   "id": "cd320770",
   "metadata": {},
   "outputs": [
    {
     "data": {
      "text/plain": [
       "46"
      ]
     },
     "execution_count": 25,
     "metadata": {},
     "output_type": "execute_result"
    }
   ],
   "source": [
    "df_meta[~df_meta.Robust].index.get_level_values(0).unique().size"
   ]
  },
  {
   "cell_type": "code",
   "execution_count": 36,
   "id": "5a94b792",
   "metadata": {},
   "outputs": [
    {
     "data": {
      "text/plain": [
       "array(['hso_normal_training_robustbench_Addepalli2021Towards_PARN18_cifar100_13',\n",
       "       'hso_normal_training_robustbench_Rebuffi2021Fixing_R18_ddpm_cifar100_13',\n",
       "       'hso_normal_training_robustbench_Rice2020Overfitting_cifar100_13',\n",
       "       'hso_normal_training_robustbench_Addepalli2021Towards_RN18_cifar10_13',\n",
       "       'hso_normal_training_robustbench_Andriushchenko2020Understanding_cifar10_13',\n",
       "       'hso_normal_training_robustbench_Rebuffi2021Fixing_R18_ddpm_cifar10_13',\n",
       "       'hso_normal_training_robustbench_Engstrom2019Robustness_cifar10_13',\n",
       "       'hso_normal_training_robustbench_Ding2020MMA_cifar10_13',\n",
       "       'hso_normal_training_robustbench_Hendrycks2019Using_cifar100_13',\n",
       "       'hso_normal_training_robustbench_Hendrycks2019Using_cifar10_13',\n",
       "       'hso_normal_training_robustbench_Cui2020Learnable_34_10_LBGAT0_cifar100_13',\n",
       "       'hso_normal_training_robustbench_Chen2020Efficient_cifar100_13',\n",
       "       'hso_normal_training_robustbench_Addepalli2021Towards_WRN34_cifar10_13',\n",
       "       'hso_normal_training_robustbench_Sehwag2021Proxy_R18_cifar10_13',\n",
       "       'hso_normal_training_robustbench_Wong2020Fast_cifar10_13',\n",
       "       'hso_normal_training_robustbench_Wong2020Fast_imagenet1k_13',\n",
       "       'hso_normal_training_robustbench_Wu2020Adversarial_cifar100_13',\n",
       "       'hso_normal_training_robustbench_Wu2020Adversarial_cifar10_13',\n",
       "       'hso_normal_training_robustbench_Salman2020Do_R18_imagenet1k_13',\n",
       "       'hso_normal_training_robustbench_Chen2021LTD_WRN34_20_cifar10_13',\n",
       "       'robustbench_Addepalli2021Towards_PARN18_cifar100_linf_13',\n",
       "       'robustbench_Addepalli2021Towards_RN18_cifar10_linf_13',\n",
       "       'hso_normal_training_robustbench_Rebuffi2021Fixing_28_10_cutmix_ddpm_cifar100_13',\n",
       "       'hso_normal_training_robustbench_Huang2021Exploring_cifar10_13',\n",
       "       'hso_normal_training_robustbench_Gowal2020Uncovering_70_16_cifar10_13',\n",
       "       'hso_normal_training_robustbench_Gowal2021Improving_70_16_ddpm_100m_cifar10_13',\n",
       "       'robustbench_Addepalli2021Towards_WRN34_cifar100_linf_13',\n",
       "       'robustbench_Addepalli2021Towards_WRN34_cifar10_linf_13',\n",
       "       'timm_resnet18_imagenet1k_13',\n",
       "       'hso_normal_training_robustbench_Zhang2019Theoretically_cifar10_13',\n",
       "       'hso_normal_training_robustbench_Chen2020Efficient_cifar10_13',\n",
       "       'hso_normal_training_robustbench_Rebuffi2021Fixing_106_16_cutmix_ddpm_cifar10_13',\n",
       "       'hso_normal_training_robustbench_Carmon2019Unlabeled_cifar10_13',\n",
       "       'hso_normal_training_robustbench_Gowal2020Uncovering_28_10_extra_cifar10_13',\n",
       "       'hso_normal_training_robustbench_Dai2021Parameterizing_cifar10_13',\n",
       "       'robustbench_Carmon2019Unlabeled_cifar10_linf_13',\n",
       "       'robustbench_Andriushchenko2020Understanding_cifar10_linf_13',\n",
       "       'hso_normal_training_robustbench_Rice2020Overfitting_cifar10_13',\n",
       "       'timm_resnet50_imagenet1k_13',\n",
       "       'robustbench_Chen2020Efficient_cifar100_linf_13',\n",
       "       'hso_normal_training_robustbench_Sehwag2021Proxy_cifar10_13',\n",
       "       'hso_normal_training_robustbench_Chen2021LTD_WRN34_10_cifar10_13',\n",
       "       'hso_normal_training_robustbench_Addepalli2021Towards_WRN34_cifar100_13',\n",
       "       'robustbench_Chen2020Efficient_cifar10_linf_13',\n",
       "       'hso_normal_training_robustbench_Rade2021Helper_extra_cifar10_13',\n",
       "       'hso_normal_training_robustbench_Salman2020Do_50_2_imagenet1k_13',\n",
       "       'robustbench_Chen2021LTD_WRN34_10_cifar100_linf_13',\n",
       "       'hso_normal_training_robustbench_Cui2020Learnable_34_20_cifar10_13',\n",
       "       'hso_normal_training_robustbench_Gowal2020Uncovering_34_20_cifar10_13',\n",
       "       'hso_normal_training_robustbench_Chen2020Adversarial_cifar10_13',\n",
       "       'robustbench_Chen2021LTD_WRN34_10_cifar10_linf_13',\n",
       "       'timm_wide_resnet50_2_imagenet1k_13',\n",
       "       'robustbench_Chen2020Adversarial_cifar10_linf_13',\n",
       "       'hso_normal_training_robustbench_Sridhar2021Robust_34_15_cifar10_13',\n",
       "       'hso_normal_training_robustbench_Cui2020Learnable_34_20_LBGAT6_cifar100_13',\n",
       "       'robustbench_Cui2020Learnable_34_10_LBGAT0_cifar100_linf_13',\n",
       "       'robustbench_Cui2020Learnable_34_10_LBGAT6_cifar100_linf_13',\n",
       "       'hso_normal_training_robustbench_Pang2020Boosting_cifar10_13',\n",
       "       'robustbench_Cui2020Learnable_34_10_cifar10_linf_13',\n",
       "       'hso_normal_training_robustbench_Gowal2020Uncovering_cifar100_13',\n",
       "       'robustbench_Chen2021LTD_WRN34_20_cifar10_linf_13',\n",
       "       'robustbench_Cui2020Learnable_34_20_LBGAT6_cifar100_linf_13',\n",
       "       'robustbench_Cui2020Learnable_34_20_cifar10_linf_13',\n",
       "       'robustbench_Dai2021Parameterizing_cifar10_linf_13',\n",
       "       'robustbench_Ding2020MMA_cifar10_linf_13',\n",
       "       'robustbench_Engstrom2019Robustness_cifar10_linf_13',\n",
       "       'robustbench_Engstrom2019Robustness_imagenet_linf_13',\n",
       "       'robustbench_Gowal2020Uncovering_28_10_extra_cifar10_linf_13',\n",
       "       'robustbench_Gowal2020Uncovering_34_20_cifar10_linf_13',\n",
       "       'robustbench_Gowal2021Improving_28_10_ddpm_100m_cifar10_linf_13',\n",
       "       'robustbench_Gowal2021Improving_R18_ddpm_100m_cifar10_linf_13',\n",
       "       'robustbench_Hendrycks2019Using_cifar100_linf_13',\n",
       "       'robustbench_Gowal2020Uncovering_70_16_cifar10_linf_13',\n",
       "       'robustbench_Hendrycks2019Using_cifar10_linf_13',\n",
       "       'robustbench_Huang2020Self_cifar10_linf_13',\n",
       "       'robustbench_Gowal2020Uncovering_70_16_extra_cifar10_linf_13',\n",
       "       'robustbench_Gowal2020Uncovering_extra_cifar100_linf_13',\n",
       "       'robustbench_Huang2021Exploring_cifar10_linf_13',\n",
       "       'robustbench_Gowal2021Improving_70_16_ddpm_100m_cifar10_linf_13',\n",
       "       'robustbench_Gowal2020Uncovering_cifar100_linf_13',\n",
       "       'robustbench_Huang2021Exploring_ema_cifar10_linf_13',\n",
       "       'robustbench_Rade2021Helper_R18_ddpm_cifar100_linf_13',\n",
       "       'robustbench_Rade2021Helper_R18_ddpm_cifar10_linf_13',\n",
       "       'robustbench_Rade2021Helper_R18_extra_cifar10_linf_13',\n",
       "       'robustbench_Pang2020Boosting_cifar10_linf_13',\n",
       "       'robustbench_Rade2021Helper_ddpm_cifar10_linf_13',\n",
       "       'robustbench_Rade2021Helper_extra_cifar10_linf_13',\n",
       "       'robustbench_Rebuffi2021Fixing_28_10_cutmix_ddpm_cifar100_linf_13',\n",
       "       'robustbench_Rebuffi2021Fixing_28_10_cutmix_ddpm_cifar10_linf_13',\n",
       "       'robustbench_Rebuffi2021Fixing_106_16_cutmix_ddpm_cifar10_linf_13',\n",
       "       'robustbench_Rebuffi2021Fixing_70_16_cutmix_ddpm_cifar100_linf_13',\n",
       "       'robustbench_Rebuffi2021Fixing_R18_ddpm_cifar100_linf_13',\n",
       "       'robustbench_Rebuffi2021Fixing_70_16_cutmix_ddpm_cifar10_linf_13',\n",
       "       'robustbench_Rebuffi2021Fixing_R18_ddpm_cifar10_linf_13',\n",
       "       'robustbench_Rebuffi2021Fixing_70_16_cutmix_extra_cifar10_linf_13',\n",
       "       'robustbench_Rice2020Overfitting_cifar100_linf_13',\n",
       "       'robustbench_Salman2020Do_R18_imagenet_linf_13',\n",
       "       'robustbench_Salman2020Do_R50_imagenet_linf_13',\n",
       "       'robustbench_Salman2020Do_50_2_imagenet_linf_13',\n",
       "       'robustbench_Sehwag2020Hydra_cifar10_linf_13',\n",
       "       'robustbench_Rice2020Overfitting_cifar10_linf_13',\n",
       "       'robustbench_Sehwag2021Proxy_R18_cifar10_linf_13',\n",
       "       'robustbench_Sehwag2021Proxy_cifar10_linf_13',\n",
       "       'robustbench_Sitawarin2020Improving_cifar100_linf_13',\n",
       "       'robustbench_Sitawarin2020Improving_cifar10_linf_13',\n",
       "       'robustbench_Sridhar2021Robust_cifar10_linf_13',\n",
       "       'robustbench_Sridhar2021Robust_34_15_cifar10_linf_13', nan,\n",
       "       'robustbench_Wang2020Improving_cifar10_linf_13',\n",
       "       'robustbench_Wong2020Fast_cifar10_linf_13',\n",
       "       'robustbench_Wong2020Fast_imagenet_linf_13',\n",
       "       'robustbench_Wu2020Adversarial_cifar100_linf_13',\n",
       "       'robustbench_Wu2020Adversarial_extra_cifar10_linf_13',\n",
       "       'robustbench_Wu2020Adversarial_cifar10_linf_13',\n",
       "       'robustbench_Zhang2019Theoretically_cifar10_linf_13',\n",
       "       'robustbench_Zhang2019You_cifar10_linf_13',\n",
       "       'robustbench_Zhang2020Geometry_cifar10_linf_13',\n",
       "       'robustbench_Zhang2020Attacks_cifar10_linf_13'], dtype=object)"
      ]
     },
     "execution_count": 36,
     "metadata": {},
     "output_type": "execute_result"
    }
   ],
   "source": [
    "df_meta.Name.unique()"
   ]
  },
  {
   "cell_type": "markdown",
   "id": "039d1fe9",
   "metadata": {},
   "source": [
    "#### Number of depth (NOT layers!)"
   ]
  },
  {
   "cell_type": "code",
   "execution_count": 26,
   "id": "2df4600c",
   "metadata": {},
   "outputs": [
    {
     "data": {
      "text/plain": [
       "3667"
      ]
     },
     "execution_count": 26,
     "metadata": {},
     "output_type": "execute_result"
    }
   ],
   "source": [
    "df_meta.index.size"
   ]
  },
  {
   "cell_type": "code",
   "execution_count": 18,
   "id": "95628ef3",
   "metadata": {},
   "outputs": [
    {
     "data": {
      "text/plain": [
       "Robust  Training-Dataset  Backbone               \n",
       "False   cifar10           PreActResNet-18             3\n",
       "                          ResNet-18                   2\n",
       "                          ResNet-50                   2\n",
       "                          WideResNet-106-16           1\n",
       "                          WideResNet-28-10            3\n",
       "                          WideResNet-28-10-PSSiLU     1\n",
       "                          WideResNet-28-4             1\n",
       "                          WideResNet-34-10            7\n",
       "                          WideResNet-34-15            1\n",
       "                          WideResNet-34-20            5\n",
       "                          WideResNet-34-R             1\n",
       "                          WideResNet-70-16            2\n",
       "        cifar100          PreActResNet-18             3\n",
       "                          WideResNet-28-10            2\n",
       "                          WideResNet-34-10            4\n",
       "                          WideResNet-34-20            1\n",
       "                          WideResNet-70-16            1\n",
       "        imagenet          ResNet-18                   2\n",
       "                          ResNet-50                   2\n",
       "                          WideResNet-50-2             2\n",
       "True    cifar10           PreActResNet-18             6\n",
       "                          ResNet-18                   2\n",
       "                          ResNet-50                   2\n",
       "                          WideResNet-106-16           1\n",
       "                          WideResNet-28-10           11\n",
       "                          WideResNet-28-10-PSSiLU     1\n",
       "                          WideResNet-28-4             1\n",
       "                          WideResNet-34-10           12\n",
       "                          WideResNet-34-15            1\n",
       "                          WideResNet-34-20            5\n",
       "                          WideResNet-34-R             2\n",
       "                          WideResNet-70-16            5\n",
       "        cifar100          PreActResNet-18             4\n",
       "                          WideResNet-28-10            2\n",
       "                          WideResNet-34-10            7\n",
       "                          WideResNet-34-20            1\n",
       "                          WideResNet-70-16            3\n",
       "        imagenet          ResNet-18                   1\n",
       "                          ResNet-50                   3\n",
       "                          WideResNet-50-2             1\n",
       "Name: Name, dtype: int64"
      ]
     },
     "execution_count": 18,
     "metadata": {},
     "output_type": "execute_result"
    }
   ],
   "source": [
    "df_meta.groupby([\"Robust\", \"Training-Dataset\", \"Backbone\",]).Name.nunique()"
   ]
  },
  {
   "cell_type": "code",
   "execution_count": 28,
   "id": "488e61f8",
   "metadata": {},
   "outputs": [
    {
     "data": {
      "text/plain": [
       "Robust  Training-Dataset\n",
       "False   cifar10             29\n",
       "        cifar100            11\n",
       "        imagenet             6\n",
       "True    cifar10             49\n",
       "        cifar100            17\n",
       "        imagenet             5\n",
       "Name: Name, dtype: int64"
      ]
     },
     "execution_count": 28,
     "metadata": {},
     "output_type": "execute_result"
    }
   ],
   "source": [
    "df_meta.groupby([\"Robust\", \"Training-Dataset\"]).Name.nunique()"
   ]
  },
  {
   "cell_type": "code",
   "execution_count": 29,
   "id": "0278426c",
   "metadata": {},
   "outputs": [],
   "source": [
    "from robustbench.model_zoo import model_dicts as all_models\n",
    "from robustbench.model_zoo.enums import BenchmarkDataset, ThreatModel\n",
    "import inspect\n",
    "from collections import defaultdict\n",
    "\n",
    "paper_dict = defaultdict(lambda: defaultdict(list))\n",
    "for dataset in BenchmarkDataset:\n",
    "    for paper, info_dict in all_models[dataset][ThreatModel.Linf].items():\n",
    "        paper_dict[dataset.value][inspect.getsource(info_dict[\"model\"])].append(paper)"
   ]
  },
  {
   "cell_type": "code",
   "execution_count": 30,
   "id": "086bffc2",
   "metadata": {},
   "outputs": [
    {
     "name": "stdout",
     "output_type": "stream",
     "text": [
      "cifar10 ['Andriushchenko2020Understanding'] ['PreActResNet-18']\n",
      "cifar10 ['Carmon2019Unlabeled', 'Sehwag2020Hydra', 'Wang2020Improving', 'Wu2020Adversarial_extra', 'Zhang2020Geometry', 'Sridhar2021Robust'] ['WideResNet-28-10']\n",
      "cifar10 ['Hendrycks2019Using'] ['WideResNet-28-10']\n",
      "cifar10 ['Rice2020Overfitting'] ['WideResNet-34-20']\n",
      "cifar10 ['Zhang2019Theoretically', 'Huang2020Self', 'Zhang2019You', 'Zhang2020Attacks', 'Sitawarin2020Improving', 'Cui2020Learnable_34_10'] ['WideResNet-34-10']\n",
      "cifar10 ['Engstrom2019Robustness'] ['ResNet-50']\n",
      "cifar10 ['Chen2020Adversarial'] ['ResNet-50']\n",
      "cifar10 ['Pang2020Boosting'] ['WideResNet-34-20']\n",
      "cifar10 ['Wong2020Fast'] ['PreActResNet-18']\n",
      "cifar10 ['Ding2020MMA'] ['WideResNet-28-4']\n",
      "cifar10 ['Wu2020Adversarial'] ['WideResNet-34-10']\n",
      "cifar10 ['Gowal2020Uncovering_70_16', 'Gowal2020Uncovering_70_16_extra', 'Rebuffi2021Fixing_70_16_cutmix_ddpm', 'Rebuffi2021Fixing_70_16_cutmix_extra'] ['WideResNet-70-16']\n",
      "cifar10 ['Gowal2020Uncovering_34_20'] ['WideResNet-34-20']\n",
      "cifar10 ['Gowal2020Uncovering_28_10_extra', 'Rebuffi2021Fixing_28_10_cutmix_ddpm', 'Rade2021Helper_ddpm', 'Gowal2021Improving_28_10_ddpm_100m'] ['WideResNet-28-10']\n",
      "cifar10 ['Sehwag2021Proxy'] ['WideResNet-34-10']\n",
      "cifar10 ['Sehwag2021Proxy_R18'] ['ResNet-18']\n",
      "cifar10 ['Chen2020Efficient'] ['WideResNet-34-10']\n",
      "cifar10 ['Cui2020Learnable_34_20'] ['WideResNet-34-20']\n",
      "cifar10 ['Rebuffi2021Fixing_106_16_cutmix_ddpm'] ['WideResNet-106-16']\n",
      "cifar10 ['Sridhar2021Robust_34_15'] ['WideResNet-34-15']\n",
      "cifar10 ['Rebuffi2021Fixing_R18_ddpm', 'Rade2021Helper_R18_extra', 'Rade2021Helper_R18_ddpm', 'Gowal2021Improving_R18_ddpm_100m'] ['PreActResNet-18']\n",
      "cifar10 ['Rade2021Helper_extra'] ['WideResNet-34-10']\n",
      "cifar10 ['Huang2021Exploring', 'Huang2021Exploring_ema'] ['WideResNet-34-R']\n",
      "cifar10 ['Addepalli2021Towards_RN18'] ['ResNet-18']\n",
      "cifar10 ['Addepalli2021Towards_WRN34'] ['WideResNet-34-10']\n",
      "cifar10 ['Gowal2021Improving_70_16_ddpm_100m'] ['WideResNet-70-16']\n",
      "cifar10 ['Dai2021Parameterizing'] ['WideResNet-28-10-PSSiLU']\n",
      "cifar10 ['Chen2021LTD_WRN34_10'] ['WideResNet-34-10']\n",
      "cifar10 ['Chen2021LTD_WRN34_20'] ['WideResNet-34-20']\n",
      "cifar10 ['Standard'] []\n",
      "cifar10 ['Kang2021Stable'] []\n",
      "cifar100 ['Gowal2020Uncovering', 'Gowal2020Uncovering_extra', 'Rebuffi2021Fixing_70_16_cutmix_ddpm'] ['WideResNet-70-16']\n",
      "cifar100 ['Cui2020Learnable_34_20_LBGAT6'] ['WideResNet-34-20']\n",
      "cifar100 ['Cui2020Learnable_34_10_LBGAT0', 'Cui2020Learnable_34_10_LBGAT6', 'Sitawarin2020Improving', 'Chen2021LTD_WRN34_10'] ['WideResNet-34-10']\n",
      "cifar100 ['Chen2020Efficient'] ['WideResNet-34-10']\n",
      "cifar100 ['Wu2020Adversarial'] ['WideResNet-34-10']\n",
      "cifar100 ['Hendrycks2019Using'] ['WideResNet-28-10']\n",
      "cifar100 ['Rice2020Overfitting'] ['PreActResNet-18']\n",
      "cifar100 ['Rebuffi2021Fixing_28_10_cutmix_ddpm'] ['WideResNet-28-10']\n",
      "cifar100 ['Rebuffi2021Fixing_R18_ddpm', 'Rade2021Helper_R18_ddpm'] ['PreActResNet-18']\n",
      "cifar100 ['Addepalli2021Towards_PARN18'] ['PreActResNet-18']\n",
      "cifar100 ['Addepalli2021Towards_WRN34'] ['WideResNet-34-10']\n",
      "imagenet ['Wong2020Fast', 'Engstrom2019Robustness', 'Salman2020Do_R50'] ['ResNet-50']\n",
      "imagenet ['Salman2020Do_R18'] ['ResNet-18']\n",
      "imagenet ['Salman2020Do_50_2'] ['WideResNet-50-2']\n",
      "imagenet ['Standard_R50'] []\n"
     ]
    }
   ],
   "source": [
    "for dataset, models in paper_dict.items():\n",
    "    for pair in models.values():\n",
    "        print(dataset, pair, df_meta[(df_meta.Network.isin(pair)) & (df_meta[\"Training-Dataset\"] == dataset)].Backbone.unique())"
   ]
  },
  {
   "cell_type": "code",
   "execution_count": 31,
   "id": "0108381f",
   "metadata": {},
   "outputs": [
    {
     "name": "stdout",
     "output_type": "stream",
     "text": [
      "Standard BenchmarkDataset.cifar_10 is missing\n",
      "Kang2021Stable BenchmarkDataset.cifar_10 is missing\n",
      "Standard_R50 BenchmarkDataset.imagenet is missing\n"
     ]
    }
   ],
   "source": [
    "for dataset in BenchmarkDataset:\n",
    "    for paper, info_dict in all_models[dataset][ThreatModel.Linf].items():\n",
    "        if not paper in df_meta.Network.values:\n",
    "            print(paper, dataset, \"is missing\")"
   ]
  },
  {
   "cell_type": "code",
   "execution_count": 32,
   "id": "021d2286",
   "metadata": {},
   "outputs": [
    {
     "data": {
      "text/plain": [
       "dict_values([['Wong2020Fast', 'Engstrom2019Robustness', 'Salman2020Do_R50'], ['Salman2020Do_R18'], ['Salman2020Do_50_2'], ['Standard_R50']])"
      ]
     },
     "execution_count": 32,
     "metadata": {},
     "output_type": "execute_result"
    }
   ],
   "source": [
    "paper_dict[\"imagenet\"].values()"
   ]
  },
  {
   "cell_type": "code",
   "execution_count": 43,
   "id": "3da11dc4",
   "metadata": {},
   "outputs": [
    {
     "name": "stdout",
     "output_type": "stream",
     "text": [
      "Standard cifar10\n",
      "Kang2021Stable cifar10\n",
      "Standard_R50 imagenet\n"
     ]
    },
    {
     "data": {
      "text/html": [
       "<div>\n",
       "<style scoped>\n",
       "    .dataframe tbody tr th:only-of-type {\n",
       "        vertical-align: middle;\n",
       "    }\n",
       "\n",
       "    .dataframe tbody tr th {\n",
       "        vertical-align: top;\n",
       "    }\n",
       "\n",
       "    .dataframe thead th {\n",
       "        text-align: right;\n",
       "    }\n",
       "</style>\n",
       "<table border=\"1\" class=\"dataframe\">\n",
       "  <thead>\n",
       "    <tr style=\"text-align: right;\">\n",
       "      <th></th>\n",
       "      <th>Robust</th>\n",
       "      <th>Normal</th>\n",
       "      <th>Arch</th>\n",
       "      <th>Dataset</th>\n",
       "    </tr>\n",
       "  </thead>\n",
       "  <tbody>\n",
       "    <tr>\n",
       "      <th>0</th>\n",
       "      <td>robustbench_Andriushchenko2020Understanding_ci...</td>\n",
       "      <td>hso_normal_training_robustbench_Andriushchenko...</td>\n",
       "      <td>PreActResNet-18</td>\n",
       "      <td>cifar10</td>\n",
       "    </tr>\n",
       "    <tr>\n",
       "      <th>1</th>\n",
       "      <td>robustbench_Carmon2019Unlabeled_cifar10_linf_13</td>\n",
       "      <td>hso_normal_training_robustbench_Carmon2019Unla...</td>\n",
       "      <td>WideResNet-28-10</td>\n",
       "      <td>cifar10</td>\n",
       "    </tr>\n",
       "    <tr>\n",
       "      <th>2</th>\n",
       "      <td>robustbench_Sehwag2020Hydra_cifar10_linf_13</td>\n",
       "      <td>hso_normal_training_robustbench_Carmon2019Unla...</td>\n",
       "      <td>WideResNet-28-10</td>\n",
       "      <td>cifar10</td>\n",
       "    </tr>\n",
       "    <tr>\n",
       "      <th>3</th>\n",
       "      <td>robustbench_Wang2020Improving_cifar10_linf_13</td>\n",
       "      <td>hso_normal_training_robustbench_Carmon2019Unla...</td>\n",
       "      <td>WideResNet-28-10</td>\n",
       "      <td>cifar10</td>\n",
       "    </tr>\n",
       "    <tr>\n",
       "      <th>4</th>\n",
       "      <td>robustbench_Hendrycks2019Using_cifar10_linf_13</td>\n",
       "      <td>hso_normal_training_robustbench_Hendrycks2019U...</td>\n",
       "      <td>WideResNet-28-10</td>\n",
       "      <td>cifar10</td>\n",
       "    </tr>\n",
       "    <tr>\n",
       "      <th>...</th>\n",
       "      <td>...</td>\n",
       "      <td>...</td>\n",
       "      <td>...</td>\n",
       "      <td>...</td>\n",
       "    </tr>\n",
       "    <tr>\n",
       "      <th>66</th>\n",
       "      <td>robustbench_Wong2020Fast_imagenet_linf_13</td>\n",
       "      <td>timm_resnet50_imagenet1k_13</td>\n",
       "      <td>ResNet-50</td>\n",
       "      <td>imagenet</td>\n",
       "    </tr>\n",
       "    <tr>\n",
       "      <th>67</th>\n",
       "      <td>robustbench_Engstrom2019Robustness_imagenet_li...</td>\n",
       "      <td>timm_resnet50_imagenet1k_13</td>\n",
       "      <td>ResNet-50</td>\n",
       "      <td>imagenet</td>\n",
       "    </tr>\n",
       "    <tr>\n",
       "      <th>68</th>\n",
       "      <td>robustbench_Salman2020Do_R50_imagenet_linf_13</td>\n",
       "      <td>timm_resnet50_imagenet1k_13</td>\n",
       "      <td>ResNet-50</td>\n",
       "      <td>imagenet</td>\n",
       "    </tr>\n",
       "    <tr>\n",
       "      <th>69</th>\n",
       "      <td>robustbench_Salman2020Do_R18_imagenet_linf_13</td>\n",
       "      <td>timm_resnet18_imagenet1k_13</td>\n",
       "      <td>ResNet-18</td>\n",
       "      <td>imagenet</td>\n",
       "    </tr>\n",
       "    <tr>\n",
       "      <th>70</th>\n",
       "      <td>robustbench_Salman2020Do_50_2_imagenet_linf_13</td>\n",
       "      <td>timm_wide_resnet50_2_imagenet1k_13</td>\n",
       "      <td>WideResNet-50-2</td>\n",
       "      <td>imagenet</td>\n",
       "    </tr>\n",
       "  </tbody>\n",
       "</table>\n",
       "<p>71 rows × 4 columns</p>\n",
       "</div>"
      ],
      "text/plain": [
       "                                               Robust  \\\n",
       "0   robustbench_Andriushchenko2020Understanding_ci...   \n",
       "1     robustbench_Carmon2019Unlabeled_cifar10_linf_13   \n",
       "2         robustbench_Sehwag2020Hydra_cifar10_linf_13   \n",
       "3       robustbench_Wang2020Improving_cifar10_linf_13   \n",
       "4      robustbench_Hendrycks2019Using_cifar10_linf_13   \n",
       "..                                                ...   \n",
       "66          robustbench_Wong2020Fast_imagenet_linf_13   \n",
       "67  robustbench_Engstrom2019Robustness_imagenet_li...   \n",
       "68      robustbench_Salman2020Do_R50_imagenet_linf_13   \n",
       "69      robustbench_Salman2020Do_R18_imagenet_linf_13   \n",
       "70     robustbench_Salman2020Do_50_2_imagenet_linf_13   \n",
       "\n",
       "                                               Normal              Arch  \\\n",
       "0   hso_normal_training_robustbench_Andriushchenko...   PreActResNet-18   \n",
       "1   hso_normal_training_robustbench_Carmon2019Unla...  WideResNet-28-10   \n",
       "2   hso_normal_training_robustbench_Carmon2019Unla...  WideResNet-28-10   \n",
       "3   hso_normal_training_robustbench_Carmon2019Unla...  WideResNet-28-10   \n",
       "4   hso_normal_training_robustbench_Hendrycks2019U...  WideResNet-28-10   \n",
       "..                                                ...               ...   \n",
       "66                        timm_resnet50_imagenet1k_13         ResNet-50   \n",
       "67                        timm_resnet50_imagenet1k_13         ResNet-50   \n",
       "68                        timm_resnet50_imagenet1k_13         ResNet-50   \n",
       "69                        timm_resnet18_imagenet1k_13         ResNet-18   \n",
       "70                 timm_wide_resnet50_2_imagenet1k_13   WideResNet-50-2   \n",
       "\n",
       "     Dataset  \n",
       "0    cifar10  \n",
       "1    cifar10  \n",
       "2    cifar10  \n",
       "3    cifar10  \n",
       "4    cifar10  \n",
       "..       ...  \n",
       "66  imagenet  \n",
       "67  imagenet  \n",
       "68  imagenet  \n",
       "69  imagenet  \n",
       "70  imagenet  \n",
       "\n",
       "[71 rows x 4 columns]"
      ]
     },
     "execution_count": 43,
     "metadata": {},
     "output_type": "execute_result"
    }
   ],
   "source": [
    "pairings = []\n",
    "for dataset in BenchmarkDataset:\n",
    "    for paper, info_dict in all_models[dataset][ThreatModel.Linf].items():\n",
    "        robust_model = df_meta[(df_meta.Network == paper) & (df_meta[\"Training-Dataset\"] == dataset.value) & (df_meta.Robust)].Name.unique()\n",
    "        \n",
    "        if len(robust_model) < 1:\n",
    "            print(paper, dataset.value)\n",
    "            continue\n",
    "        \n",
    "        for pairs in paper_dict[dataset.value].values():\n",
    "            if paper in pairs:\n",
    "                counter_parts = pairs\n",
    "        \n",
    "        backbone = df_meta[(df_meta.Network.isin(counter_parts)) & (df_meta[\"Training-Dataset\"] == dataset.value)].Backbone.unique()\n",
    "                \n",
    "        if dataset.value != \"imagenet\":\n",
    "            normal_model = df_meta[(df_meta.Network.isin(counter_parts)) & (df_meta[\"Training-Dataset\"] == dataset.value) & (~df_meta.Robust)].Name.unique()\n",
    "        else:  # our imagenet models didnt train well, so let's use the ones from timm\n",
    "            normal_model = df_meta[df_meta.Name.str.contains(\"timm_\") & (df_meta.Backbone == backbone[0])].Name.unique()\n",
    "        \n",
    "       \n",
    "        pairings.append((robust_model[0], normal_model[0], backbone[0], dataset.value))\n",
    "        \n",
    "df = pd.DataFrame(pairings, columns=[\"Robust\", \"Normal\", \"Arch\", \"Dataset\"])\n",
    "df.to_csv(\"robust_vs_normal_pairings.csv\")\n",
    "df"
   ]
  },
  {
   "cell_type": "code",
   "execution_count": 44,
   "id": "c8a99db7",
   "metadata": {},
   "outputs": [
    {
     "name": "stdout",
     "output_type": "stream",
     "text": [
      "\\begin{longtable}{lllrrrr}\n",
      "\\toprule\n",
      "                               Paper &  Dataset &                    Arch &  Adv. Trained Clean Acc &  Adv. Trained Robust Acc &  Norm. Trained Clean Acc &  Norm. Trained Robust Acc \\\\\n",
      "\\midrule\n",
      "\\endfirsthead\n",
      "\n",
      "\\toprule\n",
      "                               Paper &  Dataset &                    Arch &  Adv. Trained Clean Acc &  Adv. Trained Robust Acc &  Norm. Trained Clean Acc &  Norm. Trained Robust Acc \\\\\n",
      "\\midrule\n",
      "\\endhead\n",
      "\\midrule\n",
      "\\multicolumn{7}{r}{{Continued on next page}} \\\\\n",
      "\\midrule\n",
      "\\endfoot\n",
      "\n",
      "\\bottomrule\n",
      "\\endlastfoot\n",
      "     Andriushchenko2020Understanding &  cifar10 &         PreActResNet-18 &                   79.84 &                    43.93 &                    94.51 &                       0.0 \\\\\n",
      "                 Carmon2019Unlabeled &  cifar10 &        WideResNet-28-10 &                   89.69 &                    59.53 &                    95.10 &                       0.0 \\\\\n",
      "                     Sehwag2020Hydra &  cifar10 &        WideResNet-28-10 &                   88.98 &                    57.14 &                    95.10 &                       0.0 \\\\\n",
      "                   Wang2020Improving &  cifar10 &        WideResNet-28-10 &                   87.50 &                    56.29 &                    95.10 &                       0.0 \\\\\n",
      "                  Hendrycks2019Using &  cifar10 &        WideResNet-28-10 &                   87.11 &                    54.92 &                    95.35 &                       0.0 \\\\\n",
      "                 Rice2020Overfitting &  cifar10 &        WideResNet-34-20 &                   85.34 &                    53.42 &                    95.46 &                       0.0 \\\\\n",
      "              Zhang2019Theoretically &  cifar10 &        WideResNet-34-10 &                   84.92 &                    53.08 &                    95.26 &                       0.0 \\\\\n",
      "              Engstrom2019Robustness &  cifar10 &               ResNet-50 &                   87.03 &                    49.25 &                    94.90 &                       0.0 \\\\\n",
      "                 Chen2020Adversarial &  cifar10 &               ResNet-50 &                   86.04 &                    51.56 &                    86.50 &                       0.0 \\\\\n",
      "                       Huang2020Self &  cifar10 &        WideResNet-34-10 &                   83.48 &                    53.34 &                    95.26 &                       0.0 \\\\\n",
      "                    Pang2020Boosting &  cifar10 &        WideResNet-34-20 &                   85.14 &                    53.74 &                    76.30 &                       0.0 \\\\\n",
      "                        Wong2020Fast &  cifar10 &         PreActResNet-18 &                   83.34 &                    43.21 &                    94.25 &                       0.0 \\\\\n",
      "                         Ding2020MMA &  cifar10 &         WideResNet-28-4 &                   84.36 &                    41.44 &                    94.33 &                       0.0 \\\\\n",
      "                        Zhang2019You &  cifar10 &        WideResNet-34-10 &                   87.20 &                    44.83 &                    95.26 &                       0.0 \\\\\n",
      "                    Zhang2020Attacks &  cifar10 &        WideResNet-34-10 &                   84.52 &                    53.51 &                    95.26 &                       0.0 \\\\\n",
      "             Wu2020Adversarial\\_extra &  cifar10 &        WideResNet-28-10 &                   88.25 &                    60.04 &                    95.10 &                       0.0 \\\\\n",
      "                   Wu2020Adversarial &  cifar10 &        WideResNet-34-10 &                   85.36 &                    56.17 &                    95.64 &                       0.0 \\\\\n",
      "           Gowal2020Uncovering\\_70\\_16 &  cifar10 &        WideResNet-70-16 &                   85.29 &                    57.20 &                    87.91 &                       0.0 \\\\\n",
      "     Gowal2020Uncovering\\_70\\_16\\_extra &  cifar10 &        WideResNet-70-16 &                   91.10 &                    65.88 &                    87.91 &                       0.0 \\\\\n",
      "           Gowal2020Uncovering\\_34\\_20 &  cifar10 &        WideResNet-34-20 &                   85.64 &                    56.86 &                    88.33 &                       0.0 \\\\\n",
      "     Gowal2020Uncovering\\_28\\_10\\_extra &  cifar10 &        WideResNet-28-10 &                   89.48 &                    62.80 &                    88.20 &                       0.0 \\\\\n",
      "                     Sehwag2021Proxy &  cifar10 &        WideResNet-34-10 &                   85.85 &                    59.09 &                    95.64 &                       0.0 \\\\\n",
      "                 Sehwag2021Proxy\\_R18 &  cifar10 &               ResNet-18 &                   84.38 &                    54.43 &                    94.87 &                       0.0 \\\\\n",
      "              Sitawarin2020Improving &  cifar10 &        WideResNet-34-10 &                   86.84 &                    50.72 &                    95.26 &                       0.0 \\\\\n",
      "                   Chen2020Efficient &  cifar10 &        WideResNet-34-10 &                   85.32 &                    51.12 &                    95.35 &                       0.0 \\\\\n",
      "              Cui2020Learnable\\_34\\_20 &  cifar10 &        WideResNet-34-20 &                   88.70 &                    53.57 &                    95.44 &                       0.0 \\\\\n",
      "              Cui2020Learnable\\_34\\_10 &  cifar10 &        WideResNet-34-10 &                   88.22 &                    52.86 &                    95.26 &                       0.0 \\\\\n",
      "                   Zhang2020Geometry &  cifar10 &        WideResNet-28-10 &                   89.36 &                    59.64 &                    95.10 &                       0.0 \\\\\n",
      " Rebuffi2021Fixing\\_28\\_10\\_cutmix\\_ddpm &  cifar10 &        WideResNet-28-10 &                   87.33 &                    60.75 &                    88.20 &                       0.0 \\\\\n",
      "Rebuffi2021Fixing\\_106\\_16\\_cutmix\\_ddpm &  cifar10 &       WideResNet-106-16 &                   88.50 &                    64.64 &                    86.92 &                       0.0 \\\\\n",
      " Rebuffi2021Fixing\\_70\\_16\\_cutmix\\_ddpm &  cifar10 &        WideResNet-70-16 &                   88.54 &                    64.25 &                    87.91 &                       0.0 \\\\\n",
      "Rebuffi2021Fixing\\_70\\_16\\_cutmix\\_extra &  cifar10 &        WideResNet-70-16 &                   92.23 &                    66.58 &                    87.91 &                       0.0 \\\\\n",
      "                   Sridhar2021Robust &  cifar10 &        WideResNet-28-10 &                   89.46 &                    59.66 &                    95.10 &                       0.0 \\\\\n",
      "             Sridhar2021Robust\\_34\\_15 &  cifar10 &        WideResNet-34-15 &                   86.53 &                    60.41 &                    95.50 &                       0.0 \\\\\n",
      "          Rebuffi2021Fixing\\_R18\\_ddpm &  cifar10 &         PreActResNet-18 &                   83.53 &                    56.66 &                    89.01 &                       0.0 \\\\\n",
      "            Rade2021Helper\\_R18\\_extra &  cifar10 &         PreActResNet-18 &                   89.02 &                    57.67 &                    89.01 &                       0.0 \\\\\n",
      "             Rade2021Helper\\_R18\\_ddpm &  cifar10 &         PreActResNet-18 &                   86.86 &                    57.09 &                    89.01 &                       0.0 \\\\\n",
      "                Rade2021Helper\\_extra &  cifar10 &        WideResNet-34-10 &                   91.47 &                    62.83 &                    88.67 &                       0.0 \\\\\n",
      "                 Rade2021Helper\\_ddpm &  cifar10 &        WideResNet-28-10 &                   88.16 &                    60.97 &                    88.20 &                       0.0 \\\\\n",
      "                  Huang2021Exploring &  cifar10 &         WideResNet-34-R &                   90.56 &                    61.56 &                    95.60 &                       0.0 \\\\\n",
      "              Huang2021Exploring\\_ema &  cifar10 &         WideResNet-34-R &                   91.23 &                    62.54 &                    95.60 &                       0.0 \\\\\n",
      "           Addepalli2021Towards\\_RN18 &  cifar10 &               ResNet-18 &                   80.24 &                    51.06 &                    94.87 &                       0.0 \\\\\n",
      "          Addepalli2021Towards\\_WRN34 &  cifar10 &        WideResNet-34-10 &                   85.32 &                    58.04 &                    95.26 &                       0.0 \\\\\n",
      "  Gowal2021Improving\\_70\\_16\\_ddpm\\_100m &  cifar10 &        WideResNet-70-16 &                   88.74 &                    66.11 &                    87.91 &                       0.0 \\\\\n",
      "               Dai2021Parameterizing &  cifar10 & WideResNet-28-10-PSSiLU &                   87.02 &                    61.55 &                    85.53 &                       0.0 \\\\\n",
      "  Gowal2021Improving\\_28\\_10\\_ddpm\\_100m &  cifar10 &        WideResNet-28-10 &                   87.50 &                    63.44 &                    88.20 &                       0.0 \\\\\n",
      "    Gowal2021Improving\\_R18\\_ddpm\\_100m &  cifar10 &         PreActResNet-18 &                   87.35 &                    58.63 &                    89.01 &                       0.0 \\\\\n",
      "                Chen2021LTD\\_WRN34\\_10 &  cifar10 &        WideResNet-34-10 &                   85.21 &                    56.94 &                    95.64 &                       0.0 \\\\\n",
      "                Chen2021LTD\\_WRN34\\_20 &  cifar10 &        WideResNet-34-20 &                   86.03 &                    57.71 &                    95.29 &                       0.0 \\\\\n",
      "                 Gowal2020Uncovering & cifar100 &        WideResNet-70-16 &                   60.86 &                    30.03 &                    60.56 &                       0.0 \\\\\n",
      "           Gowal2020Uncovering\\_extra & cifar100 &        WideResNet-70-16 &                   69.15 &                    36.88 &                    60.56 &                       0.0 \\\\\n",
      "       Cui2020Learnable\\_34\\_20\\_LBGAT6 & cifar100 &        WideResNet-34-20 &                   62.55 &                    30.20 &                    80.46 &                       0.0 \\\\\n",
      "       Cui2020Learnable\\_34\\_10\\_LBGAT0 & cifar100 &        WideResNet-34-10 &                   70.25 &                    27.16 &                    79.11 &                       0.0 \\\\\n",
      "       Cui2020Learnable\\_34\\_10\\_LBGAT6 & cifar100 &        WideResNet-34-10 &                   60.64 &                    29.33 &                    79.11 &                       0.0 \\\\\n",
      "                   Chen2020Efficient & cifar100 &        WideResNet-34-10 &                   62.15 &                    26.94 &                    78.75 &                       0.0 \\\\\n",
      "                   Wu2020Adversarial & cifar100 &        WideResNet-34-10 &                   60.38 &                    28.86 &                    78.79 &                       0.0 \\\\\n",
      "              Sitawarin2020Improving & cifar100 &        WideResNet-34-10 &                   62.82 &                    24.57 &                    79.11 &                       0.0 \\\\\n",
      "                  Hendrycks2019Using & cifar100 &        WideResNet-28-10 &                   59.23 &                    28.42 &                    79.16 &                       0.0 \\\\\n",
      "                 Rice2020Overfitting & cifar100 &         PreActResNet-18 &                   53.83 &                    18.95 &                    76.18 &                       0.0 \\\\\n",
      " Rebuffi2021Fixing\\_70\\_16\\_cutmix\\_ddpm & cifar100 &        WideResNet-70-16 &                   63.56 &                    34.64 &                    60.56 &                       0.0 \\\\\n",
      " Rebuffi2021Fixing\\_28\\_10\\_cutmix\\_ddpm & cifar100 &        WideResNet-28-10 &                   62.41 &                    32.06 &                    61.46 &                       0.0 \\\\\n",
      "          Rebuffi2021Fixing\\_R18\\_ddpm & cifar100 &         PreActResNet-18 &                   56.87 &                    28.50 &                    63.45 &                       0.0 \\\\\n",
      "             Rade2021Helper\\_R18\\_ddpm & cifar100 &         PreActResNet-18 &                   61.50 &                    28.88 &                    63.45 &                       0.0 \\\\\n",
      "         Addepalli2021Towards\\_PARN18 & cifar100 &         PreActResNet-18 &                   62.02 &                    27.14 &                    76.66 &                       0.0 \\\\\n",
      "          Addepalli2021Towards\\_WRN34 & cifar100 &        WideResNet-34-10 &                   65.73 &                    30.35 &                    79.11 &                       0.0 \\\\\n",
      "                Chen2021LTD\\_WRN34\\_10 & cifar100 &        WideResNet-34-10 &                   64.07 &                    30.59 &                    79.11 &                       0.0 \\\\\n",
      "                        Wong2020Fast & imagenet &               ResNet-50 &                   55.62 &                    26.24 &                    51.74 &                       0.0 \\\\\n",
      "              Engstrom2019Robustness & imagenet &               ResNet-50 &                   62.56 &                    29.22 &                    51.74 &                       0.0 \\\\\n",
      "                    Salman2020Do\\_R50 & imagenet &               ResNet-50 &                   64.02 &                    34.96 &                    51.74 &                       0.0 \\\\\n",
      "                    Salman2020Do\\_R18 & imagenet &               ResNet-18 &                   52.92 &                    25.32 &                    42.95 &                       0.0 \\\\\n",
      "                   Salman2020Do\\_50\\_2 & imagenet &         WideResNet-50-2 &                   68.46 &                    38.14 &                    59.71 &                       0.0 \\\\\n",
      "\\end{longtable}\n",
      "\n"
     ]
    }
   ],
   "source": [
    "df_pairings[\"Paper\"] =  df_pairings.Robust.apply(lambda name: df_meta[df_meta.Name == name].Network.values[0])\n",
    "df_pairings[\"Adv. Trained Clean Acc\"] =  df_pairings.Robust.apply(lambda name: df_meta[df_meta.Name == name][\"Clean Accuracy\"].values[0])\n",
    "df_pairings[\"Adv. Trained Robust Acc\"] = df_pairings.Robust.apply(lambda name: df_meta[df_meta.Name == name][\"Robust Accuracy\"].values[0])\n",
    "df_pairings[\"Norm. Trained Clean Acc\"] = df_pairings.Normal.apply(lambda name: df_meta[df_meta.Name == name][\"Clean Accuracy\"].values[0])\n",
    "df_pairings[\"Norm. Trained Robust Acc\"] = df_pairings.Normal.apply(lambda name: df_meta[df_meta.Name == name][\"Robust Accuracy\"].values[0])\n",
    "\n",
    "print(df_pairings[[\"Paper\", \"Dataset\", \"Arch\", \"Adv. Trained Clean Acc\", \"Adv. Trained Robust Acc\", \"Norm. Trained Clean Acc\", \"Norm. Trained Robust Acc\"]].to_latex(index=False, longtable=True))"
   ]
  }
 ],
 "metadata": {
  "kernelspec": {
   "display_name": "Python 3 (ipykernel)",
   "language": "python",
   "name": "python3"
  },
  "language_info": {
   "codemirror_mode": {
    "name": "ipython",
    "version": 3
   },
   "file_extension": ".py",
   "mimetype": "text/x-python",
   "name": "python",
   "nbconvert_exporter": "python",
   "pygments_lexer": "ipython3",
   "version": "3.8.12"
  }
 },
 "nbformat": 4,
 "nbformat_minor": 5
}
