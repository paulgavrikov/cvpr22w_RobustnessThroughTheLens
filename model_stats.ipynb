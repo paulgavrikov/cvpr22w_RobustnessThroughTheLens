{
 "cells": [
  {
   "cell_type": "code",
   "execution_count": 4,
   "id": "4bc7b503",
   "metadata": {},
   "outputs": [],
   "source": [
    "import numpy as np\n",
    "import pandas as pd\n",
    "from multiprocessing import Pool\n",
    "import matplotlib.pyplot as plt\n",
    "import matplotlib.gridspec as grid_spec\n",
    "from tqdm.auto import tqdm\n",
    "from math import ceil\n",
    "import itertools\n",
    "import h5py\n",
    "import io\n",
    "import robustbench"
   ]
  },
  {
   "cell_type": "code",
   "execution_count": 5,
   "id": "7a80b715",
   "metadata": {},
   "outputs": [],
   "source": [
    "dataset_path = \"/data/output/20220226_robustness/dataset.h5\"\n",
    "df_meta = pd.read_hdf(dataset_path, \"meta\")\n",
    "df_meta[\"filter_ids\"] = df_meta[\"filter_ids\"].apply(lambda s: np.arange(int(s.split(\":\")[0]), 1 + int(s.split(\":\")[1])))\n",
    "df_meta.Robust = df_meta.Robust.apply(bool)"
   ]
  },
  {
   "cell_type": "markdown",
   "id": "b19a423e",
   "metadata": {},
   "source": [
    "#### Number of models"
   ]
  },
  {
   "cell_type": "code",
   "execution_count": 6,
   "id": "e4b3d734",
   "metadata": {},
   "outputs": [
    {
     "data": {
      "text/plain": [
       "119"
      ]
     },
     "execution_count": 6,
     "metadata": {},
     "output_type": "execute_result"
    }
   ],
   "source": [
    "df_meta.index.get_level_values(0).unique().size"
   ]
  },
  {
   "cell_type": "code",
   "execution_count": 7,
   "id": "d35218ee",
   "metadata": {},
   "outputs": [
    {
     "data": {
      "text/plain": [
       "73"
      ]
     },
     "execution_count": 7,
     "metadata": {},
     "output_type": "execute_result"
    }
   ],
   "source": [
    "df_meta[df_meta.Robust].index.get_level_values(0).unique().size"
   ]
  },
  {
   "cell_type": "code",
   "execution_count": 8,
   "id": "dceca7a6",
   "metadata": {},
   "outputs": [
    {
     "data": {
      "text/plain": [
       "46"
      ]
     },
     "execution_count": 8,
     "metadata": {},
     "output_type": "execute_result"
    }
   ],
   "source": [
    "df_meta[~df_meta.Robust].index.get_level_values(0).unique().size"
   ]
  },
  {
   "cell_type": "code",
   "execution_count": 9,
   "id": "6234d4a2",
   "metadata": {},
   "outputs": [
    {
     "data": {
      "text/plain": [
       "Index(['filter_ids', 'model', 'path', 'producer', 'op_set', 'Conv',\n",
       "       '(3, 3) filters', 'BatchNormalization', 'Add', 'Relu', '(1, 1) filters',\n",
       "       'Pad', 'AveragePool', 'Reshape', 'Gemm', 'depth', 'Sub', 'Div',\n",
       "       'Sigmoid', 'Mul', 'Shape', 'Gather', 'Unsqueeze', 'Concat',\n",
       "       'ReduceMean', 'ReduceProd', 'Cast', 'Sqrt', 'Max', '(7, 7) filters',\n",
       "       'MaxPool', 'GlobalAveragePool', 'Flatten', 'Softmax', 'ReduceL2',\n",
       "       'Clip', 'MatMul', 'Expand', 'Name', 'Paper', 'Tracer Warning',\n",
       "       'Selection', 'Hide', 'Robust', 'Clean Accuracy', 'Robust Accuracy',\n",
       "       'Network', 'Backbone', 'Framework', 'Pretraining-Dataset',\n",
       "       'Training-Dataset', 'Visual Category', 'Visual Category_micro',\n",
       "       'Precision', 'Conv Weight Initializer', 'Optimizer', 'Task',\n",
       "       'Input Shape', 'Accessible', 'total_filters', '3x3_filter_share'],\n",
       "      dtype='object')"
      ]
     },
     "execution_count": 9,
     "metadata": {},
     "output_type": "execute_result"
    }
   ],
   "source": [
    "df_meta.columns"
   ]
  },
  {
   "cell_type": "markdown",
   "id": "3a5b8ce4",
   "metadata": {},
   "source": [
    "#### Number of depth (NOT layers!)"
   ]
  },
  {
   "cell_type": "code",
   "execution_count": 6,
   "id": "229913b3",
   "metadata": {},
   "outputs": [
    {
     "data": {
      "text/plain": [
       "3667"
      ]
     },
     "execution_count": 6,
     "metadata": {},
     "output_type": "execute_result"
    }
   ],
   "source": [
    "df_meta.index.size"
   ]
  },
  {
   "cell_type": "code",
   "execution_count": 7,
   "id": "2cfbb929",
   "metadata": {},
   "outputs": [
    {
     "data": {
      "text/plain": [
       "Robust  Training-Dataset  Backbone               \n",
       "False   cifar10           PreActResNet-18             3\n",
       "                          ResNet-18                   2\n",
       "                          ResNet-50                   2\n",
       "                          WideResNet-106-16           1\n",
       "                          WideResNet-28-10            3\n",
       "                          WideResNet-28-10-PSSiLU     1\n",
       "                          WideResNet-28-4             1\n",
       "                          WideResNet-34-10            7\n",
       "                          WideResNet-34-15            1\n",
       "                          WideResNet-34-20            5\n",
       "                          WideResNet-34-R             1\n",
       "                          WideResNet-70-16            2\n",
       "        cifar100          PreActResNet-18             3\n",
       "                          WideResNet-28-10            2\n",
       "                          WideResNet-34-10            4\n",
       "                          WideResNet-34-20            1\n",
       "                          WideResNet-70-16            1\n",
       "        imagenet          ResNet-18                   2\n",
       "                          ResNet-50                   2\n",
       "                          WideResNet-50-2             2\n",
       "True    cifar10           PreActResNet-18             6\n",
       "                          ResNet-18                   2\n",
       "                          ResNet-50                   2\n",
       "                          WideResNet-106-16           1\n",
       "                          WideResNet-28-10           11\n",
       "                          WideResNet-28-10-PSSiLU     1\n",
       "                          WideResNet-28-4             1\n",
       "                          WideResNet-34-10           12\n",
       "                          WideResNet-34-15            1\n",
       "                          WideResNet-34-20            5\n",
       "                          WideResNet-34-R             2\n",
       "                          WideResNet-70-16            5\n",
       "        cifar100          PreActResNet-18             4\n",
       "                          WideResNet-28-10            2\n",
       "                          WideResNet-34-10            7\n",
       "                          WideResNet-34-20            1\n",
       "                          WideResNet-70-16            3\n",
       "        imagenet          ResNet-18                   1\n",
       "                          ResNet-50                   3\n",
       "                          WideResNet-50-2             1\n",
       "Name: Name, dtype: int64"
      ]
     },
     "execution_count": 7,
     "metadata": {},
     "output_type": "execute_result"
    }
   ],
   "source": [
    "df_meta.groupby([\"Robust\", \"Training-Dataset\", \"Backbone\",]).Name.nunique()"
   ]
  },
  {
   "cell_type": "code",
   "execution_count": 8,
   "id": "2d3958b3",
   "metadata": {},
   "outputs": [
    {
     "data": {
      "text/plain": [
       "Robust  Training-Dataset\n",
       "False   cifar10             29\n",
       "        cifar100            11\n",
       "        imagenet             6\n",
       "True    cifar10             49\n",
       "        cifar100            17\n",
       "        imagenet             5\n",
       "Name: Name, dtype: int64"
      ]
     },
     "execution_count": 8,
     "metadata": {},
     "output_type": "execute_result"
    }
   ],
   "source": [
    "df_meta.groupby([\"Robust\", \"Training-Dataset\"]).Name.nunique()"
   ]
  },
  {
   "cell_type": "code",
   "execution_count": 10,
   "id": "5a136182",
   "metadata": {},
   "outputs": [],
   "source": [
    "from robustbench.model_zoo import model_dicts as all_models\n",
    "from robustbench.model_zoo.enums import BenchmarkDataset, ThreatModel\n",
    "import inspect\n",
    "from collections import defaultdict\n",
    "\n",
    "paper_dict = defaultdict(lambda: defaultdict(list))\n",
    "for dataset in BenchmarkDataset:\n",
    "    for paper, info_dict in all_models[dataset][ThreatModel.Linf].items():\n",
    "        paper_dict[dataset.value][inspect.getsource(info_dict[\"model\"])].append(paper)"
   ]
  },
  {
   "cell_type": "code",
   "execution_count": 11,
   "id": "243deeef",
   "metadata": {},
   "outputs": [
    {
     "name": "stdout",
     "output_type": "stream",
     "text": [
      "cifar10 ['Andriushchenko2020Understanding'] ['PreActResNet-18']\n",
      "cifar10 ['Carmon2019Unlabeled', 'Sehwag2020Hydra', 'Wang2020Improving', 'Wu2020Adversarial_extra', 'Zhang2020Geometry', 'Sridhar2021Robust'] ['WideResNet-28-10']\n",
      "cifar10 ['Hendrycks2019Using'] ['WideResNet-28-10']\n",
      "cifar10 ['Rice2020Overfitting'] ['WideResNet-34-20']\n",
      "cifar10 ['Zhang2019Theoretically', 'Huang2020Self', 'Zhang2019You', 'Zhang2020Attacks', 'Sitawarin2020Improving', 'Cui2020Learnable_34_10'] ['WideResNet-34-10']\n",
      "cifar10 ['Engstrom2019Robustness'] ['ResNet-50']\n",
      "cifar10 ['Chen2020Adversarial'] ['ResNet-50']\n",
      "cifar10 ['Pang2020Boosting'] ['WideResNet-34-20']\n",
      "cifar10 ['Wong2020Fast'] ['PreActResNet-18']\n",
      "cifar10 ['Ding2020MMA'] ['WideResNet-28-4']\n",
      "cifar10 ['Wu2020Adversarial'] ['WideResNet-34-10']\n",
      "cifar10 ['Gowal2020Uncovering_70_16', 'Gowal2020Uncovering_70_16_extra', 'Rebuffi2021Fixing_70_16_cutmix_ddpm', 'Rebuffi2021Fixing_70_16_cutmix_extra'] ['WideResNet-70-16']\n",
      "cifar10 ['Gowal2020Uncovering_34_20'] ['WideResNet-34-20']\n",
      "cifar10 ['Gowal2020Uncovering_28_10_extra', 'Rebuffi2021Fixing_28_10_cutmix_ddpm', 'Rade2021Helper_ddpm', 'Gowal2021Improving_28_10_ddpm_100m'] ['WideResNet-28-10']\n",
      "cifar10 ['Sehwag2021Proxy'] ['WideResNet-34-10']\n",
      "cifar10 ['Sehwag2021Proxy_R18'] ['ResNet-18']\n",
      "cifar10 ['Chen2020Efficient'] ['WideResNet-34-10']\n",
      "cifar10 ['Cui2020Learnable_34_20'] ['WideResNet-34-20']\n",
      "cifar10 ['Rebuffi2021Fixing_106_16_cutmix_ddpm'] ['WideResNet-106-16']\n",
      "cifar10 ['Sridhar2021Robust_34_15'] ['WideResNet-34-15']\n",
      "cifar10 ['Rebuffi2021Fixing_R18_ddpm', 'Rade2021Helper_R18_extra', 'Rade2021Helper_R18_ddpm', 'Gowal2021Improving_R18_ddpm_100m'] ['PreActResNet-18']\n",
      "cifar10 ['Rade2021Helper_extra'] ['WideResNet-34-10']\n",
      "cifar10 ['Huang2021Exploring', 'Huang2021Exploring_ema'] ['WideResNet-34-R']\n",
      "cifar10 ['Addepalli2021Towards_RN18'] ['ResNet-18']\n",
      "cifar10 ['Addepalli2021Towards_WRN34'] ['WideResNet-34-10']\n",
      "cifar10 ['Gowal2021Improving_70_16_ddpm_100m'] ['WideResNet-70-16']\n",
      "cifar10 ['Dai2021Parameterizing'] ['WideResNet-28-10-PSSiLU']\n",
      "cifar10 ['Chen2021LTD_WRN34_10'] ['WideResNet-34-10']\n",
      "cifar10 ['Chen2021LTD_WRN34_20'] ['WideResNet-34-20']\n",
      "cifar10 ['Standard'] []\n",
      "cifar10 ['Kang2021Stable'] []\n",
      "cifar100 ['Gowal2020Uncovering', 'Gowal2020Uncovering_extra', 'Rebuffi2021Fixing_70_16_cutmix_ddpm'] ['WideResNet-70-16']\n",
      "cifar100 ['Cui2020Learnable_34_20_LBGAT6'] ['WideResNet-34-20']\n",
      "cifar100 ['Cui2020Learnable_34_10_LBGAT0', 'Cui2020Learnable_34_10_LBGAT6', 'Sitawarin2020Improving', 'Chen2021LTD_WRN34_10'] ['WideResNet-34-10']\n",
      "cifar100 ['Chen2020Efficient'] ['WideResNet-34-10']\n",
      "cifar100 ['Wu2020Adversarial'] ['WideResNet-34-10']\n",
      "cifar100 ['Hendrycks2019Using'] ['WideResNet-28-10']\n",
      "cifar100 ['Rice2020Overfitting'] ['PreActResNet-18']\n",
      "cifar100 ['Rebuffi2021Fixing_28_10_cutmix_ddpm'] ['WideResNet-28-10']\n",
      "cifar100 ['Rebuffi2021Fixing_R18_ddpm', 'Rade2021Helper_R18_ddpm'] ['PreActResNet-18']\n",
      "cifar100 ['Addepalli2021Towards_PARN18'] ['PreActResNet-18']\n",
      "cifar100 ['Addepalli2021Towards_WRN34'] ['WideResNet-34-10']\n",
      "imagenet ['Wong2020Fast', 'Engstrom2019Robustness', 'Salman2020Do_R50'] ['ResNet-50']\n",
      "imagenet ['Salman2020Do_R18'] ['ResNet-18']\n",
      "imagenet ['Salman2020Do_50_2'] ['WideResNet-50-2']\n",
      "imagenet ['Standard_R50'] []\n"
     ]
    }
   ],
   "source": [
    "for dataset, models in paper_dict.items():\n",
    "    for pair in models.values():\n",
    "        print(dataset, pair, df_meta[(df_meta.Network.isin(pair)) & (df_meta[\"Training-Dataset\"] == dataset)].Backbone.unique())"
   ]
  },
  {
   "cell_type": "code",
   "execution_count": 12,
   "id": "fa73ed3a",
   "metadata": {},
   "outputs": [
    {
     "name": "stdout",
     "output_type": "stream",
     "text": [
      "Standard BenchmarkDataset.cifar_10 is missing\n",
      "Kang2021Stable BenchmarkDataset.cifar_10 is missing\n",
      "Standard_R50 BenchmarkDataset.imagenet is missing\n"
     ]
    }
   ],
   "source": [
    "for dataset in BenchmarkDataset:\n",
    "    for paper, info_dict in all_models[dataset][ThreatModel.Linf].items():\n",
    "        if not paper in df_meta.Network.values:\n",
    "            print(paper, dataset, \"is missing\")"
   ]
  },
  {
   "cell_type": "code",
   "execution_count": 13,
   "id": "2ca0d316",
   "metadata": {},
   "outputs": [
    {
     "data": {
      "text/plain": [
       "dict_values([['Wong2020Fast', 'Engstrom2019Robustness', 'Salman2020Do_R50'], ['Salman2020Do_R18'], ['Salman2020Do_50_2'], ['Standard_R50']])"
      ]
     },
     "execution_count": 13,
     "metadata": {},
     "output_type": "execute_result"
    }
   ],
   "source": [
    "paper_dict[\"imagenet\"].values()"
   ]
  },
  {
   "cell_type": "code",
   "execution_count": 16,
   "id": "6a7c1bd8",
   "metadata": {},
   "outputs": [
    {
     "name": "stdout",
     "output_type": "stream",
     "text": [
      "Standard cifar10\n",
      "Kang2021Stable cifar10\n",
      "Standard_R50 imagenet\n"
     ]
    },
    {
     "data": {
      "text/html": [
       "<div>\n",
       "<style scoped>\n",
       "    .dataframe tbody tr th:only-of-type {\n",
       "        vertical-align: middle;\n",
       "    }\n",
       "\n",
       "    .dataframe tbody tr th {\n",
       "        vertical-align: top;\n",
       "    }\n",
       "\n",
       "    .dataframe thead th {\n",
       "        text-align: right;\n",
       "    }\n",
       "</style>\n",
       "<table border=\"1\" class=\"dataframe\">\n",
       "  <thead>\n",
       "    <tr style=\"text-align: right;\">\n",
       "      <th></th>\n",
       "      <th>Robust</th>\n",
       "      <th>Normal</th>\n",
       "      <th>Arch</th>\n",
       "    </tr>\n",
       "  </thead>\n",
       "  <tbody>\n",
       "    <tr>\n",
       "      <th>0</th>\n",
       "      <td>robustbench_Andriushchenko2020Understanding_ci...</td>\n",
       "      <td>hso_normal_training_robustbench_Andriushchenko...</td>\n",
       "      <td>PreActResNet-18</td>\n",
       "    </tr>\n",
       "    <tr>\n",
       "      <th>1</th>\n",
       "      <td>robustbench_Carmon2019Unlabeled_cifar10_linf_13</td>\n",
       "      <td>hso_normal_training_robustbench_Carmon2019Unla...</td>\n",
       "      <td>WideResNet-28-10</td>\n",
       "    </tr>\n",
       "    <tr>\n",
       "      <th>2</th>\n",
       "      <td>robustbench_Sehwag2020Hydra_cifar10_linf_13</td>\n",
       "      <td>hso_normal_training_robustbench_Carmon2019Unla...</td>\n",
       "      <td>WideResNet-28-10</td>\n",
       "    </tr>\n",
       "    <tr>\n",
       "      <th>3</th>\n",
       "      <td>robustbench_Wang2020Improving_cifar10_linf_13</td>\n",
       "      <td>hso_normal_training_robustbench_Carmon2019Unla...</td>\n",
       "      <td>WideResNet-28-10</td>\n",
       "    </tr>\n",
       "    <tr>\n",
       "      <th>4</th>\n",
       "      <td>robustbench_Hendrycks2019Using_cifar10_linf_13</td>\n",
       "      <td>hso_normal_training_robustbench_Hendrycks2019U...</td>\n",
       "      <td>WideResNet-28-10</td>\n",
       "    </tr>\n",
       "    <tr>\n",
       "      <th>...</th>\n",
       "      <td>...</td>\n",
       "      <td>...</td>\n",
       "      <td>...</td>\n",
       "    </tr>\n",
       "    <tr>\n",
       "      <th>66</th>\n",
       "      <td>robustbench_Wong2020Fast_imagenet_linf_13</td>\n",
       "      <td>hso_normal_training_robustbench_Wong2020Fast_i...</td>\n",
       "      <td>ResNet-50</td>\n",
       "    </tr>\n",
       "    <tr>\n",
       "      <th>67</th>\n",
       "      <td>robustbench_Engstrom2019Robustness_imagenet_li...</td>\n",
       "      <td>hso_normal_training_robustbench_Wong2020Fast_i...</td>\n",
       "      <td>ResNet-50</td>\n",
       "    </tr>\n",
       "    <tr>\n",
       "      <th>68</th>\n",
       "      <td>robustbench_Salman2020Do_R50_imagenet_linf_13</td>\n",
       "      <td>hso_normal_training_robustbench_Wong2020Fast_i...</td>\n",
       "      <td>ResNet-50</td>\n",
       "    </tr>\n",
       "    <tr>\n",
       "      <th>69</th>\n",
       "      <td>robustbench_Salman2020Do_R18_imagenet_linf_13</td>\n",
       "      <td>hso_normal_training_robustbench_Salman2020Do_R...</td>\n",
       "      <td>ResNet-18</td>\n",
       "    </tr>\n",
       "    <tr>\n",
       "      <th>70</th>\n",
       "      <td>robustbench_Salman2020Do_50_2_imagenet_linf_13</td>\n",
       "      <td>hso_normal_training_robustbench_Salman2020Do_5...</td>\n",
       "      <td>WideResNet-50-2</td>\n",
       "    </tr>\n",
       "  </tbody>\n",
       "</table>\n",
       "<p>71 rows × 3 columns</p>\n",
       "</div>"
      ],
      "text/plain": [
       "                                               Robust  \\\n",
       "0   robustbench_Andriushchenko2020Understanding_ci...   \n",
       "1     robustbench_Carmon2019Unlabeled_cifar10_linf_13   \n",
       "2         robustbench_Sehwag2020Hydra_cifar10_linf_13   \n",
       "3       robustbench_Wang2020Improving_cifar10_linf_13   \n",
       "4      robustbench_Hendrycks2019Using_cifar10_linf_13   \n",
       "..                                                ...   \n",
       "66          robustbench_Wong2020Fast_imagenet_linf_13   \n",
       "67  robustbench_Engstrom2019Robustness_imagenet_li...   \n",
       "68      robustbench_Salman2020Do_R50_imagenet_linf_13   \n",
       "69      robustbench_Salman2020Do_R18_imagenet_linf_13   \n",
       "70     robustbench_Salman2020Do_50_2_imagenet_linf_13   \n",
       "\n",
       "                                               Normal              Arch  \n",
       "0   hso_normal_training_robustbench_Andriushchenko...   PreActResNet-18  \n",
       "1   hso_normal_training_robustbench_Carmon2019Unla...  WideResNet-28-10  \n",
       "2   hso_normal_training_robustbench_Carmon2019Unla...  WideResNet-28-10  \n",
       "3   hso_normal_training_robustbench_Carmon2019Unla...  WideResNet-28-10  \n",
       "4   hso_normal_training_robustbench_Hendrycks2019U...  WideResNet-28-10  \n",
       "..                                                ...               ...  \n",
       "66  hso_normal_training_robustbench_Wong2020Fast_i...         ResNet-50  \n",
       "67  hso_normal_training_robustbench_Wong2020Fast_i...         ResNet-50  \n",
       "68  hso_normal_training_robustbench_Wong2020Fast_i...         ResNet-50  \n",
       "69  hso_normal_training_robustbench_Salman2020Do_R...         ResNet-18  \n",
       "70  hso_normal_training_robustbench_Salman2020Do_5...   WideResNet-50-2  \n",
       "\n",
       "[71 rows x 3 columns]"
      ]
     },
     "execution_count": 16,
     "metadata": {},
     "output_type": "execute_result"
    }
   ],
   "source": [
    "pairings = []\n",
    "for dataset in BenchmarkDataset:\n",
    "    for paper, info_dict in all_models[dataset][ThreatModel.Linf].items():\n",
    "        robust_model = df_meta[(df_meta.Network == paper) & (df_meta[\"Training-Dataset\"] == dataset.value) & (df_meta.Robust)].Name.unique()\n",
    "        \n",
    "        if len(robust_model) < 1:\n",
    "            print(paper, dataset.value)\n",
    "            continue\n",
    "        \n",
    "        for pairs in paper_dict[dataset.value].values():\n",
    "            if paper in pairs:\n",
    "                counter_parts = pairs\n",
    "        \n",
    "        normal_model = df_meta[(df_meta.Network.isin(counter_parts)) & (df_meta[\"Training-Dataset\"] == dataset.value) & (~df_meta.Robust)].Name.unique()\n",
    "        backbone = df_meta[(df_meta.Network.isin(counter_parts)) & (df_meta[\"Training-Dataset\"] == dataset.value)].Backbone.unique()\n",
    "        pairings.append((robust_model[0], normal_model[0], backbone[0]))\n",
    "        \n",
    "df = pd.DataFrame(pairings, columns=[\"Robust\", \"Normal\", \"Arch\"])\n",
    "df.to_csv(\"robust_vs_normal_pairings.csv\")\n",
    "df"
   ]
  }
 ],
 "metadata": {
  "kernelspec": {
   "display_name": "Python 3 (ipykernel)",
   "language": "python",
   "name": "python3"
  },
  "language_info": {
   "codemirror_mode": {
    "name": "ipython",
    "version": 3
   },
   "file_extension": ".py",
   "mimetype": "text/x-python",
   "name": "python",
   "nbconvert_exporter": "python",
   "pygments_lexer": "ipython3",
   "version": "3.8.12"
  }
 },
 "nbformat": 4,
 "nbformat_minor": 5
}
