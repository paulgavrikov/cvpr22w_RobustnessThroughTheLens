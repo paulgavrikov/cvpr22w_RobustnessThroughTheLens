{
 "cells": [
  {
   "cell_type": "code",
   "execution_count": 4,
   "id": "fca5534b",
   "metadata": {},
   "outputs": [],
   "source": [
    "import robustbench\n",
    "from robustbench.utils import load_model\n",
    "from tqdm import tqdm\n",
    "import os\n",
    "import torch\n",
    "from autoattack import AutoAttack\n",
    "from robustbench.data import _load_dataset\n",
    "from torchvision import transforms, datasets\n",
    "import robustbench\n",
    "from robustbench.utils import load_model\n",
    "import os\n",
    "import torch\n",
    "import multiprocessing as mp\n",
    "from collections import defaultdict"
   ]
  },
  {
   "cell_type": "code",
   "execution_count": 10,
   "id": "99c9b137",
   "metadata": {},
   "outputs": [
    {
     "name": "stderr",
     "output_type": "stream",
     "text": [
      " 17% 1/6 [00:00<00:02,  2.47it/s]"
     ]
    },
    {
     "name": "stdout",
     "output_type": "stream",
     "text": [
      "Wong2020Fast defaultdict(<class 'int'>, {'(7, 7)': 192, '(1, 1)': 12128256, '(3, 3)': 1257472})\n"
     ]
    },
    {
     "name": "stderr",
     "output_type": "stream",
     "text": [
      " 33% 2/6 [00:00<00:01,  2.44it/s]"
     ]
    },
    {
     "name": "stdout",
     "output_type": "stream",
     "text": [
      "Engstrom2019Robustness defaultdict(<class 'int'>, {'(7, 7)': 384, '(1, 1)': 24256512, '(3, 3)': 2514944})\n"
     ]
    },
    {
     "name": "stderr",
     "output_type": "stream",
     "text": [
      " 67% 4/6 [00:01<00:00,  3.40it/s]"
     ]
    },
    {
     "name": "stdout",
     "output_type": "stream",
     "text": [
      "Salman2020Do_R50 defaultdict(<class 'int'>, {'(7, 7)': 576, '(1, 1)': 36384768, '(3, 3)': 3772416})\n",
      "Salman2020Do_R18 defaultdict(<class 'int'>, {'(7, 7)': 768, '(1, 1)': 36556800, '(3, 3)': 4993024})\n"
     ]
    },
    {
     "name": "stderr",
     "output_type": "stream",
     "text": [
      " 83% 5/6 [00:02<00:00,  1.97it/s]"
     ]
    },
    {
     "name": "stdout",
     "output_type": "stream",
     "text": [
      "Salman2020Do_50_2 defaultdict(<class 'int'>, {'(7, 7)': 960, '(1, 1)': 58044416, '(3, 3)': 10022912})\n"
     ]
    },
    {
     "name": "stderr",
     "output_type": "stream",
     "text": [
      "100% 6/6 [00:02<00:00,  2.35it/s]"
     ]
    },
    {
     "name": "stdout",
     "output_type": "stream",
     "text": [
      "Standard_R50 defaultdict(<class 'int'>, {'(7, 7)': 1152, '(1, 1)': 70172672, '(3, 3)': 11280384})\n"
     ]
    },
    {
     "name": "stderr",
     "output_type": "stream",
     "text": [
      "\n"
     ]
    }
   ],
   "source": [
    "dataset = robustbench.model_zoo.enums.BenchmarkDataset.imagenet\n",
    "\n",
    "num_filters = defaultdict(int)\n",
    "        \n",
    "for paper_id, infos in tqdm(robustbench.model_zoo.models.model_dicts[dataset][robustbench.model_zoo.enums.ThreatModel.Linf].items()):\n",
    "\n",
    "    try:\n",
    "        model = load_model(model_name=paper_id, dataset=dataset.value, threat_model=\"Linf\")\n",
    "        for w in map(lambda m: m.weight.detach().cpu().numpy(), filter(lambda m: type(m) == torch.nn.Conv2d, model.modules())):\n",
    "            num_filters[str((w.shape[2], w.shape[3]))] += w.shape[0] * w.shape[1]\n",
    "\n",
    "        print(paper_id, num_filters)\n",
    "    except Exception as e:\n",
    "        msg = str(e)\n",
    "        if \"\\n\" in msg:\n",
    "            msg = msg[:msg.index(\"\\n\")]\n",
    "        print(dataset.value, paper_id, type(e), msg)"
   ]
  },
  {
   "cell_type": "code",
   "execution_count": null,
   "id": "c9eb1d18",
   "metadata": {},
   "outputs": [],
   "source": []
  }
 ],
 "metadata": {
  "kernelspec": {
   "display_name": "Python 3 (ipykernel)",
   "language": "python",
   "name": "python3"
  },
  "language_info": {
   "codemirror_mode": {
    "name": "ipython",
    "version": 3
   },
   "file_extension": ".py",
   "mimetype": "text/x-python",
   "name": "python",
   "nbconvert_exporter": "python",
   "pygments_lexer": "ipython3",
   "version": "3.8.12"
  }
 },
 "nbformat": 4,
 "nbformat_minor": 5
}
