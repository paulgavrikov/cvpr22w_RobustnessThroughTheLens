{
 "cells": [
  {
   "cell_type": "code",
   "execution_count": 2,
   "id": "46926dc7",
   "metadata": {},
   "outputs": [],
   "source": [
    "import numpy as np\n",
    "from sklearn.decomposition import PCA\n",
    "import pandas as pd\n",
    "from multiprocessing import Pool\n",
    "import matplotlib.pyplot as plt\n",
    "import matplotlib.gridspec as grid_spec\n",
    "from KDEpy import FFTKDE\n",
    "from tqdm.auto import tqdm\n",
    "from math import ceil\n",
    "import itertools\n",
    "import scipy\n",
    "from fast_histogram import histogram2d\n",
    "import colorcet as cc\n",
    "import matplotlib.colors as colors\n",
    "import h5py\n",
    "import io\n",
    "from pprint import pprint\n",
    "from collections import defaultdict"
   ]
  },
  {
   "cell_type": "code",
   "execution_count": 3,
   "id": "e3f873f0",
   "metadata": {},
   "outputs": [],
   "source": [
    "dataset_path = \"/data/output/20220226_robustness/dataset.h5\""
   ]
  },
  {
   "cell_type": "code",
   "execution_count": 4,
   "id": "19c1703a",
   "metadata": {},
   "outputs": [],
   "source": [
    "with h5py.File(dataset_path, \"r\") as f:\n",
    "    dX = f[\"filters\"][:].reshape(-1, 9) "
   ]
  },
  {
   "cell_type": "code",
   "execution_count": 5,
   "id": "53f2a695",
   "metadata": {},
   "outputs": [],
   "source": [
    "df_meta = pd.read_hdf(dataset_path, \"meta\")\n",
    "df_meta[\"filter_ids\"] = df_meta[\"filter_ids\"].apply(lambda s: np.arange(int(s.split(\":\")[0]), 1 + int(s.split(\":\")[1])))\n",
    "df_meta.Robust = df_meta.Robust.apply(bool)"
   ]
  },
  {
   "cell_type": "code",
   "execution_count": 6,
   "id": "e0aeeb63",
   "metadata": {},
   "outputs": [],
   "source": [
    "if not \"layer_norm\" in df_meta.keys():\n",
    "    df_meta[\"layer_norm\"] = [np.linalg.norm(dX[row.filter_ids], np.inf) for _, row in df_meta.iterrows()]\n",
    "if not \"layer_sparse_filters\" in df_meta.keys():\n",
    "    df_meta[\"layer_sparse_filters\"] = [(np.linalg.norm(dX[row.filter_ids], np.inf, axis=1) <= row.layer_norm / 100).sum() for _, row in df_meta.iterrows()]\n",
    "df_meta[\"layer_num_filters\"] = [len(row.filter_ids) for _, row in df_meta.iterrows()]\n",
    "df_meta[\"layer_sparse_share\"] = df_meta[\"layer_sparse_filters\"] / df_meta[\"layer_num_filters\"]"
   ]
  },
  {
   "cell_type": "code",
   "execution_count": 7,
   "id": "88dd4907",
   "metadata": {},
   "outputs": [],
   "source": [
    "df_pairings = pd.read_csv(\"robust_vs_normal_pairings.csv\", index_col=0)"
   ]
  },
  {
   "cell_type": "code",
   "execution_count": 8,
   "id": "d2b103ba",
   "metadata": {},
   "outputs": [
    {
     "data": {
      "application/vnd.jupyter.widget-view+json": {
       "model_id": "c6597d004b614398a81f87f8b669f6de",
       "version_major": 2,
       "version_minor": 0
      },
      "text/plain": [
       "  0%|          | 0/119 [00:00<?, ?it/s]"
      ]
     },
     "metadata": {},
     "output_type": "display_data"
    }
   ],
   "source": [
    "num_sparse_filters = {}\n",
    "\n",
    "for model_name in tqdm(df_meta.model.unique()):\n",
    "    num_sparse_filters[model_name] = df_meta[df_meta.Name == model_name].layer_sparse_filters.sum()"
   ]
  },
  {
   "cell_type": "code",
   "execution_count": 9,
   "id": "c5d91e1b",
   "metadata": {},
   "outputs": [
    {
     "data": {
      "text/html": [
       "<div>\n",
       "<style scoped>\n",
       "    .dataframe tbody tr th:only-of-type {\n",
       "        vertical-align: middle;\n",
       "    }\n",
       "\n",
       "    .dataframe tbody tr th {\n",
       "        vertical-align: top;\n",
       "    }\n",
       "\n",
       "    .dataframe thead th {\n",
       "        text-align: right;\n",
       "    }\n",
       "</style>\n",
       "<table border=\"1\" class=\"dataframe\">\n",
       "  <thead>\n",
       "    <tr style=\"text-align: right;\">\n",
       "      <th></th>\n",
       "      <th>0</th>\n",
       "      <th>1</th>\n",
       "    </tr>\n",
       "  </thead>\n",
       "  <tbody>\n",
       "    <tr>\n",
       "      <th>0</th>\n",
       "      <td>robustbench_Gowal2020Uncovering_70_16_extra_ci...</td>\n",
       "      <td>0.989078</td>\n",
       "    </tr>\n",
       "    <tr>\n",
       "      <th>1</th>\n",
       "      <td>robustbench_Gowal2020Uncovering_extra_cifar100...</td>\n",
       "      <td>2.705958</td>\n",
       "    </tr>\n",
       "    <tr>\n",
       "      <th>2</th>\n",
       "      <td>robustbench_Wu2020Adversarial_extra_cifar10_li...</td>\n",
       "      <td>0.627961</td>\n",
       "    </tr>\n",
       "  </tbody>\n",
       "</table>\n",
       "</div>"
      ],
      "text/plain": [
       "                                                   0         1\n",
       "0  robustbench_Gowal2020Uncovering_70_16_extra_ci...  0.989078\n",
       "1  robustbench_Gowal2020Uncovering_extra_cifar100...  2.705958\n",
       "2  robustbench_Wu2020Adversarial_extra_cifar10_li...  0.627961"
      ]
     },
     "execution_count": 9,
     "metadata": {},
     "output_type": "execute_result"
    }
   ],
   "source": [
    "entries = []\n",
    "for model in filter(lambda k: \"_extra\" in k and k.replace(\"_extra\", \"\") in num_sparse_filters.keys(), num_sparse_filters.keys()):\n",
    "    entries.append((model, num_sparse_filters[model] / num_sparse_filters[model.replace(\"_extra\", \"\")]))\n",
    "\n",
    "df_sparsity_extra = pd.DataFrame(entries)\n",
    "df_sparsity_extra"
   ]
  },
  {
   "cell_type": "code",
   "execution_count": 10,
   "id": "ae9bf1c0",
   "metadata": {},
   "outputs": [
    {
     "data": {
      "text/html": [
       "<div>\n",
       "<style scoped>\n",
       "    .dataframe tbody tr th:only-of-type {\n",
       "        vertical-align: middle;\n",
       "    }\n",
       "\n",
       "    .dataframe tbody tr th {\n",
       "        vertical-align: top;\n",
       "    }\n",
       "\n",
       "    .dataframe thead th {\n",
       "        text-align: right;\n",
       "    }\n",
       "</style>\n",
       "<table border=\"1\" class=\"dataframe\">\n",
       "  <thead>\n",
       "    <tr style=\"text-align: right;\">\n",
       "      <th></th>\n",
       "      <th>0</th>\n",
       "      <th>1</th>\n",
       "      <th>2</th>\n",
       "    </tr>\n",
       "  </thead>\n",
       "  <tbody>\n",
       "    <tr>\n",
       "      <th>0</th>\n",
       "      <td>hso_normal_training_robustbench_Rebuffi2021Fix...</td>\n",
       "      <td>1256724</td>\n",
       "      <td>1306793</td>\n",
       "    </tr>\n",
       "    <tr>\n",
       "      <th>1</th>\n",
       "      <td>hso_normal_training_robustbench_Rice2020Overfi...</td>\n",
       "      <td>322897</td>\n",
       "      <td>13011560</td>\n",
       "    </tr>\n",
       "    <tr>\n",
       "      <th>2</th>\n",
       "      <td>hso_normal_training_robustbench_Hendrycks2019U...</td>\n",
       "      <td>1319065</td>\n",
       "      <td>1749467</td>\n",
       "    </tr>\n",
       "    <tr>\n",
       "      <th>3</th>\n",
       "      <td>hso_normal_training_robustbench_Chen2020Effici...</td>\n",
       "      <td>2034992</td>\n",
       "      <td>2686879</td>\n",
       "    </tr>\n",
       "    <tr>\n",
       "      <th>4</th>\n",
       "      <td>hso_normal_training_robustbench_Wu2020Adversar...</td>\n",
       "      <td>1613024</td>\n",
       "      <td>2452158</td>\n",
       "    </tr>\n",
       "    <tr>\n",
       "      <th>5</th>\n",
       "      <td>robustbench_Addepalli2021Towards_WRN34_cifar10...</td>\n",
       "      <td>1960962</td>\n",
       "      <td>2654933</td>\n",
       "    </tr>\n",
       "    <tr>\n",
       "      <th>6</th>\n",
       "      <td>robustbench_Chen2020Efficient_cifar100_linf_13</td>\n",
       "      <td>2186593</td>\n",
       "      <td>2663185</td>\n",
       "    </tr>\n",
       "    <tr>\n",
       "      <th>7</th>\n",
       "      <td>hso_normal_training_robustbench_Addepalli2021T...</td>\n",
       "      <td>1829596</td>\n",
       "      <td>2358744</td>\n",
       "    </tr>\n",
       "    <tr>\n",
       "      <th>8</th>\n",
       "      <td>robustbench_Chen2021LTD_WRN34_10_cifar100_linf_13</td>\n",
       "      <td>2138298</td>\n",
       "      <td>2477112</td>\n",
       "    </tr>\n",
       "    <tr>\n",
       "      <th>9</th>\n",
       "      <td>robustbench_Hendrycks2019Using_cifar100_linf_13</td>\n",
       "      <td>2152513</td>\n",
       "      <td>2123099</td>\n",
       "    </tr>\n",
       "    <tr>\n",
       "      <th>10</th>\n",
       "      <td>robustbench_Rade2021Helper_R18_ddpm_cifar100_l...</td>\n",
       "      <td>108123</td>\n",
       "      <td>233332</td>\n",
       "    </tr>\n",
       "    <tr>\n",
       "      <th>11</th>\n",
       "      <td>robustbench_Rebuffi2021Fixing_28_10_cutmix_ddp...</td>\n",
       "      <td>1602418</td>\n",
       "      <td>1289123</td>\n",
       "    </tr>\n",
       "    <tr>\n",
       "      <th>12</th>\n",
       "      <td>robustbench_Rebuffi2021Fixing_70_16_cutmix_ddp...</td>\n",
       "      <td>15154258</td>\n",
       "      <td>13713256</td>\n",
       "    </tr>\n",
       "    <tr>\n",
       "      <th>13</th>\n",
       "      <td>robustbench_Rebuffi2021Fixing_R18_ddpm_cifar10...</td>\n",
       "      <td>96160</td>\n",
       "      <td>453670</td>\n",
       "    </tr>\n",
       "    <tr>\n",
       "      <th>14</th>\n",
       "      <td>robustbench_Rice2020Overfitting_cifar100_linf_13</td>\n",
       "      <td>304184</td>\n",
       "      <td>12739266</td>\n",
       "    </tr>\n",
       "    <tr>\n",
       "      <th>15</th>\n",
       "      <td>robustbench_Sitawarin2020Improving_cifar100_li...</td>\n",
       "      <td>524163</td>\n",
       "      <td>2604798</td>\n",
       "    </tr>\n",
       "    <tr>\n",
       "      <th>16</th>\n",
       "      <td>robustbench_Wu2020Adversarial_cifar100_linf_13</td>\n",
       "      <td>3129826</td>\n",
       "      <td>2059866</td>\n",
       "    </tr>\n",
       "  </tbody>\n",
       "</table>\n",
       "</div>"
      ],
      "text/plain": [
       "                                                    0         1         2\n",
       "0   hso_normal_training_robustbench_Rebuffi2021Fix...   1256724   1306793\n",
       "1   hso_normal_training_robustbench_Rice2020Overfi...    322897  13011560\n",
       "2   hso_normal_training_robustbench_Hendrycks2019U...   1319065   1749467\n",
       "3   hso_normal_training_robustbench_Chen2020Effici...   2034992   2686879\n",
       "4   hso_normal_training_robustbench_Wu2020Adversar...   1613024   2452158\n",
       "5   robustbench_Addepalli2021Towards_WRN34_cifar10...   1960962   2654933\n",
       "6      robustbench_Chen2020Efficient_cifar100_linf_13   2186593   2663185\n",
       "7   hso_normal_training_robustbench_Addepalli2021T...   1829596   2358744\n",
       "8   robustbench_Chen2021LTD_WRN34_10_cifar100_linf_13   2138298   2477112\n",
       "9     robustbench_Hendrycks2019Using_cifar100_linf_13   2152513   2123099\n",
       "10  robustbench_Rade2021Helper_R18_ddpm_cifar100_l...    108123    233332\n",
       "11  robustbench_Rebuffi2021Fixing_28_10_cutmix_ddp...   1602418   1289123\n",
       "12  robustbench_Rebuffi2021Fixing_70_16_cutmix_ddp...  15154258  13713256\n",
       "13  robustbench_Rebuffi2021Fixing_R18_ddpm_cifar10...     96160    453670\n",
       "14   robustbench_Rice2020Overfitting_cifar100_linf_13    304184  12739266\n",
       "15  robustbench_Sitawarin2020Improving_cifar100_li...    524163   2604798\n",
       "16     robustbench_Wu2020Adversarial_cifar100_linf_13   3129826   2059866"
      ]
     },
     "execution_count": 10,
     "metadata": {},
     "output_type": "execute_result"
    }
   ],
   "source": [
    "entries = []\n",
    "for model in filter(lambda k: \"cifar100\" in k and k.replace(\"cifar100\", \"cifar10\") in num_sparse_filters.keys(), num_sparse_filters.keys()):\n",
    "    entries.append((model, num_sparse_filters[model], num_sparse_filters[model.replace(\"cifar100\", \"cifar10\")]))\n",
    "    \n",
    "df_sparsity_dataset = pd.DataFrame(entries)\n",
    "df_sparsity_dataset"
   ]
  },
  {
   "cell_type": "code",
   "execution_count": 11,
   "id": "c45b1c0e",
   "metadata": {},
   "outputs": [],
   "source": [
    "df_pairings[\"sparse_ratio\"] = [num_sparse_filters[row.Robust] / num_sparse_filters[row.Normal] for _, row in df_pairings.iterrows()]"
   ]
  },
  {
   "cell_type": "code",
   "execution_count": 12,
   "id": "3b71e0c1",
   "metadata": {},
   "outputs": [],
   "source": [
    "def set_box_color(bp, color):\n",
    "    for patch in bp[\"boxes\"]:\n",
    "        patch.set(facecolor=color)\n",
    "\n",
    "    plt.setp(bp[\"medians\"], color=\"black\")\n",
    "    plt.setp(bp[\"means\"], color=\"black\")"
   ]
  },
  {
   "cell_type": "code",
   "execution_count": 113,
   "id": "19dba2f9",
   "metadata": {},
   "outputs": [],
   "source": [
    "def boxplots(selectors, labels=None, ax=None):\n",
    "    \n",
    "    if ax is None:\n",
    "        plt.figure(facecolor=\"white\")\n",
    "        ax = plt.gca()\n",
    "        \n",
    "    n = len(selectors)\n",
    "    w = 1.5 / n\n",
    "    p = 0.2\n",
    "    \n",
    "    for i, selector in enumerate(selectors):\n",
    "    \n",
    "        df = selector\n",
    "            \n",
    "        bp = ax.boxplot(df.values, positions=np.array(range(len(df.values)))*n-(w/2)+(w+p)*i-p*n, widths=w, showmeans=True, showfliers=False, patch_artist=True, meanprops={\"markerfacecolor\": \"black\", \"markeredgecolor\":\"black\", \"markersize\":4})\n",
    "        color = f\"C{i%9}\"\n",
    "        set_box_color(bp, color)\n",
    "        if labels:\n",
    "            ax.plot([], c=color, linewidth=5, label=labels[i])\n",
    "\n",
    "#     ax.legend()\n",
    "    ax.set_xticks(range(0, len(df.index)*n, n), df.index, rotation=22.5)\n",
    "    ax.set_xlabel(\"convolution depth decile\")"
   ]
  },
  {
   "cell_type": "code",
   "execution_count": 120,
   "id": "a3685af4",
   "metadata": {},
   "outputs": [],
   "source": [
    "def get_sparsity_be_depth_decile(parent):\n",
    "    agg = []\n",
    "    for i, index in enumerate(parent.apply(lambda name: df_meta[df_meta.model == name].index)):\n",
    "        df = df_meta.loc[index]\n",
    "        old_index = df.index\n",
    "        df = df.reset_index()\n",
    "        new_index = pd.MultiIndex.from_tuples([(i, *x[1:]) for x in old_index])\n",
    "        df = df.set_index(new_index)\n",
    "        agg.append(df)\n",
    "    selector = pd.concat(agg)\n",
    "    return selector.groupby([pd.cut(selector.index.get_level_values(2), np.linspace(0, 1, 11)), \"model_id\"])\\\n",
    "                        .apply(lambda s: pd.Series({'result': s[\"layer_sparse_filters\"].sum() / s[\"layer_num_filters\"].sum()})).reset_index().groupby(\"level_0\").result.apply(np.hstack)"
   ]
  },
  {
   "cell_type": "code",
   "execution_count": 121,
   "id": "06c2a862",
   "metadata": {},
   "outputs": [
    {
     "data": {
      "text/plain": [
       "level_0\n",
       "(0.0, 0.1]    [0.2685546875, 0.59130859375, 0.28833705357142...\n",
       "(0.1, 0.2]    [0.043212890625, 0.332275390625, 0.52453125, 0...\n",
       "(0.2, 0.3]    [0.004638671875, 0.344970703125, 0.25635416666...\n",
       "(0.3, 0.4]    [0.11543782552083333, 0.1478271484375, 0.23986...\n",
       "(0.4, 0.5]    [0.0367431640625, 0.259674072265625, 0.1783040...\n",
       "(0.5, 0.6]    [0.25506591796875, 0.262451171875, 0.250387369...\n",
       "(0.6, 0.7]    [0.060760498046875, 0.09282684326171875, 0.444...\n",
       "(0.7, 0.8]    [0.0248870849609375, 0.3185577392578125, 0.353...\n",
       "(0.8, 0.9]    [0.3256429036458333, 0.052981058756510414, 0.3...\n",
       "(0.9, 1.0]    [0.1607818603515625, 0.6858921051025391, 0.556...\n",
       "Name: result, dtype: object"
      ]
     },
     "execution_count": 121,
     "metadata": {},
     "output_type": "execute_result"
    }
   ],
   "source": [
    "get_sparsity_be_depth_decile(df_pairings.Robust)"
   ]
  },
  {
   "cell_type": "code",
   "execution_count": 127,
   "id": "053969d0",
   "metadata": {},
   "outputs": [
    {
     "data": {
      "image/png": "[encoded data removed]",
      "text/plain": [
       "<Figure size 1152x288 with 2 Axes>"
      ]
     },
     "metadata": {},
     "output_type": "display_data"
    }
   ],
   "source": [
    "fig, axes = plt.subplots(1, 2, figsize=(16, 4), facecolor=\"white\", sharey=True, sharex=True)\n",
    "\n",
    "boxplots(\n",
    "    [\n",
    "        get_sparsity_be_depth_decile(df_pairings[df_pairings.Normal.str.contains(\"_cifar10_\")].Normal),\n",
    "        get_sparsity_be_depth_decile(df_pairings[df_pairings.Normal.str.contains(\"_cifar100_\")].Normal),\n",
    "        get_sparsity_be_depth_decile(df_pairings[df_pairings.Normal.str.contains(\"_imagenet1k_\")].Normal)\n",
    "    ], labels=[\"cifar10\", \"cifar100\", \"imagenet\"], ax=axes[0])\n",
    "\n",
    "boxplots(\n",
    "    [\n",
    "        get_sparsity_be_depth_decile(df_pairings[df_pairings.Robust.str.contains(\"_cifar10_\")].Robust),\n",
    "        get_sparsity_be_depth_decile(df_pairings[df_pairings.Robust.str.contains(\"_cifar100_\")].Robust),\n",
    "        get_sparsity_be_depth_decile(df_pairings[df_pairings.Robust.str.contains(\"_imagenet_\")].Robust)\n",
    "    ], labels=[\"cifar10\", \"cifar100\", \"imagenet\"], ax=axes[1])\n",
    "\n",
    "handles, labels = axes[1].get_legend_handles_labels()\n",
    "fig.legend(handles, labels, loc='upper center', bbox_to_anchor=(0,0.05,1,1), ncol=3)\n",
    "fig.tight_layout()\n",
    "axes[0].set_ylabel(\"sparsity\")\n",
    "plt.savefig(\"plots/sparsity_normal_vs_robust.pdf\", bbox_inches='tight')"
   ]
  }
 ],
 "metadata": {
  "kernelspec": {
   "display_name": "Python 3 (ipykernel)",
   "language": "python",
   "name": "python3"
  },
  "language_info": {
   "codemirror_mode": {
    "name": "ipython",
    "version": 3
   },
   "file_extension": ".py",
   "mimetype": "text/x-python",
   "name": "python",
   "nbconvert_exporter": "python",
   "pygments_lexer": "ipython3",
   "version": "3.8.12"
  }
 },
 "nbformat": 4,
 "nbformat_minor": 5
}
