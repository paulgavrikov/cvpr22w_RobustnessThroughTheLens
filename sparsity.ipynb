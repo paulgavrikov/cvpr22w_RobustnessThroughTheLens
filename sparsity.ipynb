{
 "cells": [
  {
   "cell_type": "code",
   "execution_count": 1,
   "id": "f7df0154",
   "metadata": {},
   "outputs": [],
   "source": [
    "%load_ext autoreload\n",
    "%autoreload 2"
   ]
  },
  {
   "cell_type": "code",
   "execution_count": 3,
   "id": "7e226582",
   "metadata": {},
   "outputs": [],
   "source": [
    "import numpy as np\n",
    "from sklearn.decomposition import PCA\n",
    "import pandas as pd\n",
    "from multiprocessing import Pool\n",
    "import matplotlib.pyplot as plt\n",
    "import matplotlib.gridspec as grid_spec\n",
    "from KDEpy import FFTKDE\n",
    "from tqdm.auto import tqdm\n",
    "from math import ceil\n",
    "import itertools\n",
    "import scipy\n",
    "from fast_histogram import histogram2d\n",
    "import colorcet as cc\n",
    "import matplotlib.colors as colors\n",
    "import h5py\n",
    "import io\n",
    "from pprint import pprint\n",
    "from collections import defaultdict"
   ]
  },
  {
   "cell_type": "code",
   "execution_count": 4,
   "id": "6662256e",
   "metadata": {},
   "outputs": [],
   "source": [
    "dataset_path = \"/data/output/20220226_robustness/dataset.h5\""
   ]
  },
  {
   "cell_type": "code",
   "execution_count": 3,
   "id": "95434f05",
   "metadata": {},
   "outputs": [],
   "source": [
    "with h5py.File(dataset_path, \"r\") as f:\n",
    "    dX = f[\"filters\"][:].reshape(-1, 9) "
   ]
  },
  {
   "cell_type": "code",
   "execution_count": 5,
   "id": "3f5c94d9",
   "metadata": {},
   "outputs": [],
   "source": [
    "df_meta = pd.read_hdf(dataset_path, \"meta\")\n",
    "df_meta[\"filter_ids\"] = df_meta[\"filter_ids\"].apply(lambda s: np.arange(int(s.split(\":\")[0]), 1 + int(s.split(\":\")[1])))\n",
    "df_meta.Robust = df_meta.Robust.apply(bool)"
   ]
  },
  {
   "cell_type": "code",
   "execution_count": 10,
   "id": "df4e974b",
   "metadata": {},
   "outputs": [],
   "source": [
    "df_meta = pd.concat([df_meta, pd.read_hdf(dataset_path, \"meta_sparsity\")], axis=1)"
   ]
  },
  {
   "cell_type": "code",
   "execution_count": 13,
   "id": "8588f18d",
   "metadata": {},
   "outputs": [],
   "source": [
    "df_pairings = pd.read_csv(\"robust_vs_normal_pairings.csv\", index_col=0)"
   ]
  },
  {
   "cell_type": "markdown",
   "id": "9a6aceaf",
   "metadata": {},
   "source": [
    "## Create meta"
   ]
  },
  {
   "cell_type": "code",
   "execution_count": 5,
   "id": "125fa294",
   "metadata": {},
   "outputs": [],
   "source": [
    "if not \"layer_norm\" in df_meta.keys():\n",
    "    df_meta[\"layer_norm\"] = [np.abs(dX[row.filter_ids]).max() for _, row in df_meta.iterrows()]\n",
    "if not \"layer_sparse_filters\" in df_meta.keys():\n",
    "    df_meta[\"layer_sparse_filters\"] = [(np.linalg.norm(dX[row.filter_ids], np.inf, axis=1) <= row.layer_norm / 100).sum() for _, row in df_meta.iterrows()]\n",
    "df_meta[\"layer_num_filters\"] = [len(row.filter_ids) for _, row in df_meta.iterrows()]\n",
    "df_meta[\"layer_sparse_share\"] = df_meta[\"layer_sparse_filters\"] / df_meta[\"layer_num_filters\"]"
   ]
  },
  {
   "cell_type": "code",
   "execution_count": 33,
   "id": "f810eaa3",
   "metadata": {},
   "outputs": [],
   "source": [
    "df_meta[[\"layer_norm\", \"layer_sparse_filters\", \"layer_num_filters\", \"layer_sparse_share\"]].to_hdf(dataset_path, \"meta_sparsity\")"
   ]
  },
  {
   "cell_type": "code",
   "execution_count": 6,
   "id": "1c24317e",
   "metadata": {},
   "outputs": [
    {
     "data": {
      "application/vnd.jupyter.widget-view+json": {
       "model_id": "caf308140e4f4c3093286009d24e89b3",
       "version_major": 2,
       "version_minor": 0
      },
      "text/plain": [
       "0it [00:00, ?it/s]"
      ]
     },
     "metadata": {},
     "output_type": "display_data"
    }
   ],
   "source": [
    "sparse_filter_ids = np.hstack([row.filter_ids[(np.linalg.norm(dX[row.filter_ids], np.inf, axis=1) <= row.layer_norm / 100)] for _, row in tqdm(df_meta.iterrows())])"
   ]
  },
  {
   "cell_type": "code",
   "execution_count": 34,
   "id": "a8a4cc59",
   "metadata": {},
   "outputs": [],
   "source": [
    "def set_dataset(file, key, value, overwrite=True):\n",
    "    if key not in file:\n",
    "        file.create_dataset(key, data=value)\n",
    "    elif overwrite:\n",
    "        del file[key]\n",
    "        file[key] = value\n",
    "\n",
    "with h5py.File(dataset_path, \"a\") as f:\n",
    "    set_dataset(f, \"sparse_filter_ids\", sparse_filter_ids)"
   ]
  },
  {
   "cell_type": "markdown",
   "id": "44a622bc",
   "metadata": {},
   "source": [
    "## Analysis"
   ]
  },
  {
   "cell_type": "code",
   "execution_count": 9,
   "id": "eaecf4bc",
   "metadata": {},
   "outputs": [
    {
     "data": {
      "text/plain": [
       "0.09447506891746078"
      ]
     },
     "execution_count": 9,
     "metadata": {},
     "output_type": "execute_result"
    }
   ],
   "source": [
    "df_meta[df_meta.Robust].layer_sparse_filters.sum() / df_meta[df_meta.Robust].layer_num_filters.sum()"
   ]
  },
  {
   "cell_type": "code",
   "execution_count": 10,
   "id": "bb798211",
   "metadata": {},
   "outputs": [
    {
     "data": {
      "text/plain": [
       "0.3948042471447261"
      ]
     },
     "execution_count": 10,
     "metadata": {},
     "output_type": "execute_result"
    }
   ],
   "source": [
    "df_meta[~df_meta.Robust].layer_sparse_filters.sum() / df_meta[~df_meta.Robust].layer_num_filters.sum()"
   ]
  },
  {
   "cell_type": "code",
   "execution_count": 11,
   "id": "5f8fc698",
   "metadata": {},
   "outputs": [
    {
     "data": {
      "application/vnd.jupyter.widget-view+json": {
       "model_id": "0528163c8be34fcfb17d891087af7a33",
       "version_major": 2,
       "version_minor": 0
      },
      "text/plain": [
       "  0%|          | 0/119 [00:00<?, ?it/s]"
      ]
     },
     "metadata": {},
     "output_type": "display_data"
    }
   ],
   "source": [
    "num_sparse_filters = {}\n",
    "\n",
    "for model_name in tqdm(df_meta.model.unique()):\n",
    "    num_sparse_filters[model_name] = df_meta[df_meta.Name == model_name].layer_sparse_filters.sum()"
   ]
  },
  {
   "cell_type": "code",
   "execution_count": 12,
   "id": "3728d83c",
   "metadata": {},
   "outputs": [
    {
     "data": {
      "text/html": [
       "<div>\n",
       "<style scoped>\n",
       "    .dataframe tbody tr th:only-of-type {\n",
       "        vertical-align: middle;\n",
       "    }\n",
       "\n",
       "    .dataframe tbody tr th {\n",
       "        vertical-align: top;\n",
       "    }\n",
       "\n",
       "    .dataframe thead th {\n",
       "        text-align: right;\n",
       "    }\n",
       "</style>\n",
       "<table border=\"1\" class=\"dataframe\">\n",
       "  <thead>\n",
       "    <tr style=\"text-align: right;\">\n",
       "      <th></th>\n",
       "      <th>0</th>\n",
       "      <th>1</th>\n",
       "    </tr>\n",
       "  </thead>\n",
       "  <tbody>\n",
       "    <tr>\n",
       "      <th>0</th>\n",
       "      <td>robustbench_Gowal2020Uncovering_70_16_extra_ci...</td>\n",
       "      <td>0.480511</td>\n",
       "    </tr>\n",
       "    <tr>\n",
       "      <th>1</th>\n",
       "      <td>robustbench_Gowal2020Uncovering_extra_cifar100...</td>\n",
       "      <td>35.878385</td>\n",
       "    </tr>\n",
       "    <tr>\n",
       "      <th>2</th>\n",
       "      <td>robustbench_Wu2020Adversarial_extra_cifar10_li...</td>\n",
       "      <td>0.242799</td>\n",
       "    </tr>\n",
       "  </tbody>\n",
       "</table>\n",
       "</div>"
      ],
      "text/plain": [
       "                                                   0          1\n",
       "0  robustbench_Gowal2020Uncovering_70_16_extra_ci...   0.480511\n",
       "1  robustbench_Gowal2020Uncovering_extra_cifar100...  35.878385\n",
       "2  robustbench_Wu2020Adversarial_extra_cifar10_li...   0.242799"
      ]
     },
     "execution_count": 12,
     "metadata": {},
     "output_type": "execute_result"
    }
   ],
   "source": [
    "entries = []\n",
    "for model in filter(lambda k: \"_extra\" in k and k.replace(\"_extra\", \"\") in num_sparse_filters.keys(), num_sparse_filters.keys()):\n",
    "    entries.append((model, num_sparse_filters[model] / num_sparse_filters[model.replace(\"_extra\", \"\")]))\n",
    "\n",
    "df_sparsity_extra = pd.DataFrame(entries)\n",
    "df_sparsity_extra"
   ]
  },
  {
   "cell_type": "code",
   "execution_count": 13,
   "id": "5c448675",
   "metadata": {},
   "outputs": [
    {
     "data": {
      "text/html": [
       "<div>\n",
       "<style scoped>\n",
       "    .dataframe tbody tr th:only-of-type {\n",
       "        vertical-align: middle;\n",
       "    }\n",
       "\n",
       "    .dataframe tbody tr th {\n",
       "        vertical-align: top;\n",
       "    }\n",
       "\n",
       "    .dataframe thead th {\n",
       "        text-align: right;\n",
       "    }\n",
       "</style>\n",
       "<table border=\"1\" class=\"dataframe\">\n",
       "  <thead>\n",
       "    <tr style=\"text-align: right;\">\n",
       "      <th></th>\n",
       "      <th>0</th>\n",
       "      <th>1</th>\n",
       "      <th>2</th>\n",
       "    </tr>\n",
       "  </thead>\n",
       "  <tbody>\n",
       "    <tr>\n",
       "      <th>0</th>\n",
       "      <td>hso_normal_training_robustbench_Rebuffi2021Fix...</td>\n",
       "      <td>793725</td>\n",
       "      <td>847969</td>\n",
       "    </tr>\n",
       "    <tr>\n",
       "      <th>1</th>\n",
       "      <td>hso_normal_training_robustbench_Rice2020Overfi...</td>\n",
       "      <td>20917</td>\n",
       "      <td>4085459</td>\n",
       "    </tr>\n",
       "    <tr>\n",
       "      <th>2</th>\n",
       "      <td>hso_normal_training_robustbench_Hendrycks2019U...</td>\n",
       "      <td>145391</td>\n",
       "      <td>288556</td>\n",
       "    </tr>\n",
       "    <tr>\n",
       "      <th>3</th>\n",
       "      <td>hso_normal_training_robustbench_Chen2020Effici...</td>\n",
       "      <td>258858</td>\n",
       "      <td>684582</td>\n",
       "    </tr>\n",
       "    <tr>\n",
       "      <th>4</th>\n",
       "      <td>hso_normal_training_robustbench_Wu2020Adversar...</td>\n",
       "      <td>171888</td>\n",
       "      <td>561235</td>\n",
       "    </tr>\n",
       "    <tr>\n",
       "      <th>5</th>\n",
       "      <td>robustbench_Addepalli2021Towards_WRN34_cifar10...</td>\n",
       "      <td>160963</td>\n",
       "      <td>966752</td>\n",
       "    </tr>\n",
       "    <tr>\n",
       "      <th>6</th>\n",
       "      <td>robustbench_Chen2020Efficient_cifar100_linf_13</td>\n",
       "      <td>482209</td>\n",
       "      <td>874299</td>\n",
       "    </tr>\n",
       "    <tr>\n",
       "      <th>7</th>\n",
       "      <td>hso_normal_training_robustbench_Addepalli2021T...</td>\n",
       "      <td>192571</td>\n",
       "      <td>543461</td>\n",
       "    </tr>\n",
       "    <tr>\n",
       "      <th>8</th>\n",
       "      <td>robustbench_Chen2021LTD_WRN34_10_cifar100_linf_13</td>\n",
       "      <td>255423</td>\n",
       "      <td>634115</td>\n",
       "    </tr>\n",
       "    <tr>\n",
       "      <th>9</th>\n",
       "      <td>robustbench_Hendrycks2019Using_cifar100_linf_13</td>\n",
       "      <td>690522</td>\n",
       "      <td>686874</td>\n",
       "    </tr>\n",
       "    <tr>\n",
       "      <th>10</th>\n",
       "      <td>robustbench_Rade2021Helper_R18_ddpm_cifar100_l...</td>\n",
       "      <td>982</td>\n",
       "      <td>48760</td>\n",
       "    </tr>\n",
       "    <tr>\n",
       "      <th>11</th>\n",
       "      <td>robustbench_Rebuffi2021Fixing_28_10_cutmix_ddp...</td>\n",
       "      <td>34076</td>\n",
       "      <td>114290</td>\n",
       "    </tr>\n",
       "    <tr>\n",
       "      <th>12</th>\n",
       "      <td>robustbench_Rebuffi2021Fixing_70_16_cutmix_ddp...</td>\n",
       "      <td>711616</td>\n",
       "      <td>1350674</td>\n",
       "    </tr>\n",
       "    <tr>\n",
       "      <th>13</th>\n",
       "      <td>robustbench_Rebuffi2021Fixing_R18_ddpm_cifar10...</td>\n",
       "      <td>491</td>\n",
       "      <td>36959</td>\n",
       "    </tr>\n",
       "    <tr>\n",
       "      <th>14</th>\n",
       "      <td>robustbench_Rice2020Overfitting_cifar100_linf_13</td>\n",
       "      <td>79711</td>\n",
       "      <td>5852964</td>\n",
       "    </tr>\n",
       "    <tr>\n",
       "      <th>15</th>\n",
       "      <td>robustbench_Sitawarin2020Improving_cifar100_li...</td>\n",
       "      <td>16047</td>\n",
       "      <td>1020856</td>\n",
       "    </tr>\n",
       "    <tr>\n",
       "      <th>16</th>\n",
       "      <td>robustbench_Wu2020Adversarial_cifar100_linf_13</td>\n",
       "      <td>779630</td>\n",
       "      <td>777626</td>\n",
       "    </tr>\n",
       "  </tbody>\n",
       "</table>\n",
       "</div>"
      ],
      "text/plain": [
       "                                                    0       1        2\n",
       "0   hso_normal_training_robustbench_Rebuffi2021Fix...  793725   847969\n",
       "1   hso_normal_training_robustbench_Rice2020Overfi...   20917  4085459\n",
       "2   hso_normal_training_robustbench_Hendrycks2019U...  145391   288556\n",
       "3   hso_normal_training_robustbench_Chen2020Effici...  258858   684582\n",
       "4   hso_normal_training_robustbench_Wu2020Adversar...  171888   561235\n",
       "5   robustbench_Addepalli2021Towards_WRN34_cifar10...  160963   966752\n",
       "6      robustbench_Chen2020Efficient_cifar100_linf_13  482209   874299\n",
       "7   hso_normal_training_robustbench_Addepalli2021T...  192571   543461\n",
       "8   robustbench_Chen2021LTD_WRN34_10_cifar100_linf_13  255423   634115\n",
       "9     robustbench_Hendrycks2019Using_cifar100_linf_13  690522   686874\n",
       "10  robustbench_Rade2021Helper_R18_ddpm_cifar100_l...     982    48760\n",
       "11  robustbench_Rebuffi2021Fixing_28_10_cutmix_ddp...   34076   114290\n",
       "12  robustbench_Rebuffi2021Fixing_70_16_cutmix_ddp...  711616  1350674\n",
       "13  robustbench_Rebuffi2021Fixing_R18_ddpm_cifar10...     491    36959\n",
       "14   robustbench_Rice2020Overfitting_cifar100_linf_13   79711  5852964\n",
       "15  robustbench_Sitawarin2020Improving_cifar100_li...   16047  1020856\n",
       "16     robustbench_Wu2020Adversarial_cifar100_linf_13  779630   777626"
      ]
     },
     "execution_count": 13,
     "metadata": {},
     "output_type": "execute_result"
    }
   ],
   "source": [
    "entries = []\n",
    "for model in filter(lambda k: \"cifar100\" in k and k.replace(\"cifar100\", \"cifar10\") in num_sparse_filters.keys(), num_sparse_filters.keys()):\n",
    "    entries.append((model, num_sparse_filters[model], num_sparse_filters[model.replace(\"cifar100\", \"cifar10\")]))\n",
    "    \n",
    "df_sparsity_dataset = pd.DataFrame(entries)\n",
    "df_sparsity_dataset"
   ]
  },
  {
   "cell_type": "code",
   "execution_count": 15,
   "id": "4c1a4743",
   "metadata": {},
   "outputs": [],
   "source": [
    "def agg_by_depth_decile(parent):\n",
    "    agg = []\n",
    "    for i, index in enumerate(parent.apply(lambda name: df_meta[df_meta.model == name].index)):\n",
    "        df = df_meta.loc[index]\n",
    "        df = df.reset_index()\n",
    "        df.model_id = i\n",
    "        df = df.set_index([\"model_id\", \"conv_depth\", \"conv_depth_norm\", \"layer_id\"])\n",
    "        agg.append(df)\n",
    "    selector = pd.concat(agg)\n",
    "    \n",
    "    grouper = lambda s: s.apply(lambda s: pd.Series({'result': s[\"layer_sparse_filters\"].sum() / s[\"layer_num_filters\"].sum()}))\\\n",
    "                        .groupby(level=0).result.apply(np.hstack)\n",
    "    \n",
    "    first = selector[selector.index.get_level_values(\"conv_depth\") == 0]\n",
    "    \n",
    "    stack = []\n",
    "    \n",
    "    if len(first) > 0:\n",
    "        stack.append(grouper(first.groupby([\"conv_depth\", \"model_id\"])))\n",
    "    \n",
    "    stack.append(grouper(selector.groupby([pd.cut(selector.index.get_level_values(2), np.linspace(0, 1, 11)), \"model_id\"])))\n",
    "    \n",
    "    return pd.concat(stack)"
   ]
  },
  {
   "cell_type": "code",
   "execution_count": 17,
   "id": "a7525e6b",
   "metadata": {},
   "outputs": [
    {
     "data": {
      "image/png": "[encoded data removed]",
      "text/plain": [
       "<Figure size 1152x288 with 3 Axes>"
      ]
     },
     "metadata": {},
     "output_type": "display_data"
    }
   ],
   "source": [
    "from boxplots import boxplots\n",
    "\n",
    "with plt.style.context(\"seaborn-dark\"):\n",
    "    plt.rcParams['xtick.major.size'] = 3.5\n",
    "    fig, axes = plt.subplots(1, 3, figsize=(16, 4), facecolor=\"white\", sharey=True)\n",
    "    \n",
    "    boxplots(\n",
    "        [\n",
    "            agg_by_depth_decile(df_pairings[df_pairings.Normal.str.contains(\"_cifar10_\")].Normal),\n",
    "            agg_by_depth_decile(df_pairings[df_pairings.Robust.str.contains(\"_cifar10_\")].Robust),\n",
    "        ], labels=[\"normal\", \"robust\"], ax=axes[0])\n",
    "    axes[0].set_title(\"cifar10\")\n",
    "\n",
    "    boxplots(\n",
    "        [\n",
    "            agg_by_depth_decile(df_pairings[df_pairings.Normal.str.contains(\"_cifar100_\")].Normal),\n",
    "            agg_by_depth_decile(df_pairings[df_pairings.Robust.str.contains(\"_cifar100_\")].Robust),\n",
    "        ], labels=[\"normal\", \"robust\"], ax=axes[1])\n",
    "    axes[1].set_title(\"cifar100\")\n",
    "\n",
    "\n",
    "    boxplots(\n",
    "        [\n",
    "            agg_by_depth_decile(df_pairings[df_pairings.Normal.str.contains(\"_imagenet1k_\")].Normal),\n",
    "            agg_by_depth_decile(df_pairings[df_pairings.Robust.str.contains(\"_imagenet_\")].Robust),\n",
    "        ], labels=[\"normal\", \"robust\"], ax=axes[2])\n",
    "    axes[2].set_title(\"imagenet\")\n",
    "\n",
    "\n",
    "    handles, labels = axes[1].get_legend_handles_labels()\n",
    "    fig.legend(handles, labels, loc='upper center', bbox_to_anchor=(0,0.05,1,1), ncol=3)\n",
    "    fig.tight_layout()\n",
    "    axes[0].set_ylabel(\"mean sparsity\")\n",
    "    plt.savefig(\"plots/sparsity_normal_vs_robust.pdf\", bbox_inches='tight')"
   ]
  }
 ],
 "metadata": {
  "kernelspec": {
   "display_name": "Python 3 (ipykernel)",
   "language": "python",
   "name": "python3"
  },
  "language_info": {
   "codemirror_mode": {
    "name": "ipython",
    "version": 3
   },
   "file_extension": ".py",
   "mimetype": "text/x-python",
   "name": "python",
   "nbconvert_exporter": "python",
   "pygments_lexer": "ipython3",
   "version": "3.8.12"
  }
 },
 "nbformat": 4,
 "nbformat_minor": 5
}
