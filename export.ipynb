{
 "cells": [
  {
   "cell_type": "code",
   "execution_count": 1,
   "id": "7f9d7792",
   "metadata": {},
   "outputs": [],
   "source": [
    "import robustbench\n",
    "from robustbench.utils import load_model\n",
    "from tqdm import tqdm\n",
    "import os\n",
    "import torch\n",
    "from autoattack import AutoAttack\n",
    "from robustbench.data import _load_dataset\n",
    "from torchvision import transforms, datasets\n",
    "import robustbench\n",
    "from robustbench.utils import load_model\n",
    "import os\n",
    "import torch\n",
    "import multiprocessing as mp"
   ]
  },
  {
   "cell_type": "code",
   "execution_count": 5,
   "id": "7bc9ac94",
   "metadata": {},
   "outputs": [
    {
     "name": "stdout",
     "output_type": "stream",
     "text": [
      "Looking in indexes: https://pypi.org/simple, https://pypi.ngc.nvidia.com\n",
      "Collecting easydict\n",
      "  Downloading easydict-1.9.tar.gz (6.4 kB)\n",
      "Building wheels for collected packages: easydict\n",
      "  Building wheel for easydict (setup.py) ... \u001b[?25ldone\n",
      "\u001b[?25h  Created wheel for easydict: filename=easydict-1.9-py3-none-any.whl size=6360 sha256=adf56cfe0a7250aa13f10a3e01631c4b737ea56215c6ed408daa09283b4aa820\n",
      "  Stored in directory: /tmp/pip-ephem-wheel-cache-7o6tdnu9/wheels/d3/e0/e9/305e348717e399665119bd012510d51ff4f22d709ff60c3096\n",
      "Successfully built easydict\n",
      "Installing collected packages: easydict\n",
      "Successfully installed easydict-1.9\n",
      "\u001b[33mWARNING: Running pip as the 'root' user can result in broken permissions and conflicting behaviour with the system package manager. It is recommended to use a virtual environment instead: https://pip.pypa.io/warnings/venv\u001b[0m\n",
      "Note: you may need to restart the kernel to use updated packages.\n"
     ]
    }
   ],
   "source": [
    "pip install easydict"
   ]
  },
  {
   "cell_type": "code",
   "execution_count": 2,
   "id": "8afb70d2",
   "metadata": {},
   "outputs": [
    {
     "name": "stderr",
     "output_type": "stream",
     "text": [
      "  0% 0/51 [00:00<?, ?it/s]Warning: Constant folding - Only steps=1 can be constant folded for opset >= 10 onnx::Slice op. Constant folding not applied.\n",
      "Warning: Constant folding - Only steps=1 can be constant folded for opset >= 10 onnx::Slice op. Constant folding not applied.\n",
      "Warning: Constant folding - Only steps=1 can be constant folded for opset >= 10 onnx::Slice op. Constant folding not applied.\n",
      "Warning: Constant folding - Only steps=1 can be constant folded for opset >= 10 onnx::Slice op. Constant folding not applied.\n",
      "Warning: Constant folding - Only steps=1 can be constant folded for opset >= 10 onnx::Slice op. Constant folding not applied.\n",
      "Warning: Constant folding - Only steps=1 can be constant folded for opset >= 10 onnx::Slice op. Constant folding not applied.\n",
      "Warning: Constant folding - Only steps=1 can be constant folded for opset >= 10 onnx::Slice op. Constant folding not applied.\n",
      "Warning: Constant folding - Only steps=1 can be constant folded for opset >= 10 onnx::Slice op. Constant folding not applied.\n",
      "Warning: Constant folding - Only steps=1 can be constant folded for opset >= 10 onnx::Slice op. Constant folding not applied.\n",
      "Warning: Constant folding - Only steps=1 can be constant folded for opset >= 10 onnx::Slice op. Constant folding not applied.\n",
      "Warning: Constant folding - Only steps=1 can be constant folded for opset >= 10 onnx::Slice op. Constant folding not applied.\n",
      "Warning: Constant folding - Only steps=1 can be constant folded for opset >= 10 onnx::Slice op. Constant folding not applied.\n",
      "Warning: Constant folding - Only steps=1 can be constant folded for opset >= 10 onnx::Slice op. Constant folding not applied.\n",
      "Warning: Constant folding - Only steps=1 can be constant folded for opset >= 10 onnx::Slice op. Constant folding not applied.\n",
      "Warning: Constant folding - Only steps=1 can be constant folded for opset >= 10 onnx::Slice op. Constant folding not applied.\n",
      "Warning: Constant folding - Only steps=1 can be constant folded for opset >= 10 onnx::Slice op. Constant folding not applied.\n",
      "Warning: Constant folding - Only steps=1 can be constant folded for opset >= 10 onnx::Slice op. Constant folding not applied.\n",
      "Warning: Constant folding - Only steps=1 can be constant folded for opset >= 10 onnx::Slice op. Constant folding not applied.\n",
      "Warning: Constant folding - Only steps=1 can be constant folded for opset >= 10 onnx::Slice op. Constant folding not applied.\n",
      "Warning: Constant folding - Only steps=1 can be constant folded for opset >= 10 onnx::Slice op. Constant folding not applied.\n",
      "Warning: Constant folding - Only steps=1 can be constant folded for opset >= 10 onnx::Slice op. Constant folding not applied.\n",
      "Warning: Constant folding - Only steps=1 can be constant folded for opset >= 10 onnx::Slice op. Constant folding not applied.\n",
      "Warning: Constant folding - Only steps=1 can be constant folded for opset >= 10 onnx::Slice op. Constant folding not applied.\n",
      "Warning: Constant folding - Only steps=1 can be constant folded for opset >= 10 onnx::Slice op. Constant folding not applied.\n",
      "Warning: Constant folding - Only steps=1 can be constant folded for opset >= 10 onnx::Slice op. Constant folding not applied.\n",
      "Warning: Constant folding - Only steps=1 can be constant folded for opset >= 10 onnx::Slice op. Constant folding not applied.\n",
      "Warning: Constant folding - Only steps=1 can be constant folded for opset >= 10 onnx::Slice op. Constant folding not applied.\n",
      "Warning: Constant folding - Only steps=1 can be constant folded for opset >= 10 onnx::Slice op. Constant folding not applied.\n",
      "Warning: Constant folding - Only steps=1 can be constant folded for opset >= 10 onnx::Slice op. Constant folding not applied.\n",
      "Warning: Constant folding - Only steps=1 can be constant folded for opset >= 10 onnx::Slice op. Constant folding not applied.\n",
      "Warning: Constant folding - Only steps=1 can be constant folded for opset >= 10 onnx::Slice op. Constant folding not applied.\n",
      "Warning: Constant folding - Only steps=1 can be constant folded for opset >= 10 onnx::Slice op. Constant folding not applied.\n",
      "Warning: Constant folding - Only steps=1 can be constant folded for opset >= 10 onnx::Slice op. Constant folding not applied.\n",
      "100% 51/51 [00:23<00:00,  2.18it/s]\n",
      "100% 17/17 [00:00<00:00, 27319.22it/s]"
     ]
    },
    {
     "name": "stdout",
     "output_type": "stream",
     "text": [
      "cifar10 Kang2021Stable <class 'RuntimeError'> Exporting the operator tril to ONNX opset version 13 is not supported. Support for this operator was added in version 14, try exporting with this version.\n"
     ]
    },
    {
     "name": "stderr",
     "output_type": "stream",
     "text": [
      "\n",
      "100% 6/6 [00:00<00:00, 13654.81it/s]\n"
     ]
    }
   ],
   "source": [
    "def replace_module(module, filter_fn, replacement_fn):\n",
    "    for name, child in module.named_children():\n",
    "        if filter_fn(child):\n",
    "            replacement = replacement_fn(child)\n",
    "            setattr(module, name, replacement)\n",
    "            \n",
    "    for child in module.children():\n",
    "        replace_module(child, filter_fn, replacement_fn)\n",
    "\n",
    "onnx_opset = 13        \n",
    "        \n",
    "for dataset in list(robustbench.model_zoo.enums.BenchmarkDataset):\n",
    "    \n",
    "    if dataset.value == \"imagenet\":\n",
    "        x = torch.randn(256, 3, 224, 224)\n",
    "    else:\n",
    "        x = torch.randn(256, 3, 32, 32)\n",
    "        \n",
    "    for paper_id, infos in tqdm(robustbench.model_zoo.models.model_dicts[dataset][robustbench.model_zoo.enums.ThreatModel.Linf].items()):\n",
    "        path = f\"/ssd1/robustness_onnx_zoo/robust/robustbench_{paper_id}_{dataset.value}_linf_{onnx_opset}.onnx\"\n",
    "        \n",
    "        if not os.path.exists(path):\n",
    "            try:\n",
    "                model = load_model(model_name=paper_id, dataset=dataset.value, threat_model=\"Linf\")\n",
    "                replace_module(model, lambda m: type(m) == robustbench.model_zoo.architectures.dm_wide_resnet.Swish, lambda m: torch.nn.SiLU())\n",
    "                with torch.no_grad():\n",
    "                    torch.onnx.export(model, x, path, export_params=True, opset_version=onnx_opset)\n",
    "            except Exception as e:\n",
    "                msg = str(e)\n",
    "                if \"\\n\" in msg:\n",
    "                    msg = msg[:msg.index(\"\\n\")]\n",
    "                print(dataset.value, paper_id, type(e), msg)"
   ]
  },
  {
   "cell_type": "code",
   "execution_count": null,
   "id": "d4aa7c45",
   "metadata": {},
   "outputs": [],
   "source": []
  }
 ],
 "metadata": {
  "kernelspec": {
   "display_name": "Python 3 (ipykernel)",
   "language": "python",
   "name": "python3"
  },
  "language_info": {
   "codemirror_mode": {
    "name": "ipython",
    "version": 3
   },
   "file_extension": ".py",
   "mimetype": "text/x-python",
   "name": "python",
   "nbconvert_exporter": "python",
   "pygments_lexer": "ipython3",
   "version": "3.8.12"
  }
 },
 "nbformat": 4,
 "nbformat_minor": 5
}
