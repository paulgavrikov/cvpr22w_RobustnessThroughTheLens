{
 "cells": [
  {
   "cell_type": "code",
   "execution_count": 1,
   "id": "a600eb71",
   "metadata": {},
   "outputs": [],
   "source": [
    "import numpy as np\n",
    "from sklearn.decomposition import PCA\n",
    "import pandas as pd\n",
    "from multiprocessing import Pool\n",
    "import matplotlib.pyplot as plt\n",
    "import matplotlib.gridspec as grid_spec\n",
    "from KDEpy import FFTKDE\n",
    "from tqdm.auto import tqdm\n",
    "from math import ceil\n",
    "import itertools\n",
    "import scipy\n",
    "from fast_histogram import histogram2d\n",
    "import colorcet as cc\n",
    "import matplotlib.colors as colors\n",
    "import h5py\n",
    "import io\n",
    "import cloudpickle as cpl\n",
    "from collections import defaultdict\n",
    "import os\n",
    "from joblib import Parallel, delayed\n",
    "\n",
    "lmap = lambda func, *iterable: list(map(func, *iterable))"
   ]
  },
  {
   "cell_type": "code",
   "execution_count": 2,
   "id": "f466dcea",
   "metadata": {},
   "outputs": [],
   "source": [
    "dataset_path = \"/data/output/20220226_robustness/dataset.h5\""
   ]
  },
  {
   "cell_type": "code",
   "execution_count": 3,
   "id": "d94d9e14",
   "metadata": {},
   "outputs": [],
   "source": [
    "with h5py.File(dataset_path, \"r\") as f:\n",
    "    dX = f[\"filters\"][:].reshape(-1, 9) "
   ]
  },
  {
   "cell_type": "code",
   "execution_count": 4,
   "id": "57eb1013",
   "metadata": {},
   "outputs": [],
   "source": [
    "df_meta = pd.read_hdf(dataset_path, \"meta\")\n",
    "df_meta[\"filter_ids\"] = df_meta[\"filter_ids\"].apply(lambda s: np.arange(int(s.split(\":\")[0]), 1 + int(s.split(\":\")[1])))\n",
    "df_meta.Robust = df_meta.Robust.apply(bool)"
   ]
  },
  {
   "cell_type": "code",
   "execution_count": 5,
   "id": "a0b8c345",
   "metadata": {},
   "outputs": [],
   "source": [
    "df_pairings = pd.read_csv(\"robust_vs_normal_pairings.csv\", index_col=0)\n",
    "all_used_model_names = pd.concat([df_pairings.Robust, df_pairings.Normal]).unique()"
   ]
  },
  {
   "cell_type": "code",
   "execution_count": 40,
   "id": "44f472c5",
   "metadata": {},
   "outputs": [],
   "source": [
    "def get_scaled_filters(ids, limit=32):\n",
    "    filters = dX[ids[:limit]]\n",
    "    t = np.abs(filters).max()\n",
    "    if t == 0:\n",
    "        return filters\n",
    "    return filters / t"
   ]
  },
  {
   "cell_type": "code",
   "execution_count": 2,
   "id": "1690ff3c",
   "metadata": {},
   "outputs": [],
   "source": [
    "from mpl_toolkits.axes_grid1 import ImageGrid\n",
    "\n",
    "def plot_and_save_filter_grid(name, data):\n",
    "    \n",
    "    from matplotlib.colors import LinearSegmentedColormap\n",
    "    \n",
    "    fig = plt.figure(figsize=(8, 6))\n",
    "    grid = ImageGrid(fig, 111, nrows_ncols=data.shape[:2], axes_pad=0.0)\n",
    "\n",
    "    for i, ax in enumerate(grid):\n",
    "        col_idx = i % data.shape[1]\n",
    "        row_idx = i // data.shape[1]\n",
    "\n",
    "        if col_idx == 0:\n",
    "            ax.set_ylabel(str(row_idx), rotation=0, ha=\"left\", va=\"center_baseline\", labelpad=15)\n",
    "\n",
    "        ax.set_xticks([])\n",
    "        ax.set_yticks([])\n",
    "        ax.imshow(data[row_idx, col_idx].reshape(3, 3), cmap=LinearSegmentedColormap.from_list(\"CyanOrange\", [\"C0\", \"white\", \"C1\"]), vmin=-1, vmax=1)\n",
    "        \n",
    "    plt.savefig(f\"plots/filters/filters_{name}.pdf\", bbox_inches='tight')\n",
    "    return 0"
   ]
  },
  {
   "cell_type": "code",
   "execution_count": null,
   "id": "ebd6b3b0",
   "metadata": {},
   "outputs": [],
   "source": [
    "data.shape[1] / 512"
   ]
  },
  {
   "cell_type": "code",
   "execution_count": 48,
   "id": "7b2df721",
   "metadata": {},
   "outputs": [
    {
     "data": {
      "image/png": "[encoded data removed]",
      "text/plain": [
       "<Figure size 288x288 with 32 Axes>"
      ]
     },
     "metadata": {
      "needs_background": "light"
     },
     "output_type": "display_data"
    }
   ],
   "source": [
    "from matplotlib.colors import LinearSegmentedColormap\n",
    "\n",
    "data = np.stack(df_meta[(df_meta.Name == \"robustbench_Addepalli2021Towards_WRN34_cifar10_linf_13\") & (df_meta.index.get_level_values(\"conv_depth_norm\") == 1)].filter_ids.apply(lambda x: get_scaled_filters(x, 16)).values)\n",
    "fig = plt.figure(figsize=(4, 4))\n",
    "grid = ImageGrid(fig, 111, nrows_ncols=(4, 4), axes_pad=0.0)\n",
    "\n",
    "for i, ax in enumerate(grid):\n",
    "    row_idx, col_idx  = divmod(i, data.shape[1])\n",
    "    ax.set_xticks([])\n",
    "    ax.set_yticks([])\n",
    "    ax.imshow(data[row_idx, col_idx].reshape(3, 3), cmap=LinearSegmentedColormap.from_list(\"CyanOrange\", [\"C0\", \"white\", \"C1\"]), vmin=-1, vmax=1)\n",
    "plt.savefig(\"/gavrikov/cvpr22w_RobustnessThroughTheLense/plots/last_filters_robust.pdf\", bbox_inches='tight')"
   ]
  },
  {
   "cell_type": "code",
   "execution_count": 49,
   "id": "3773aeeb",
   "metadata": {},
   "outputs": [
    {
     "data": {
      "image/png": "[encoded data removed]",
      "text/plain": [
       "<Figure size 288x288 with 32 Axes>"
      ]
     },
     "metadata": {
      "needs_background": "light"
     },
     "output_type": "display_data"
    }
   ],
   "source": [
    "from matplotlib.colors import LinearSegmentedColormap\n",
    "\n",
    "data = np.stack(df_meta[(df_meta.Name == \"hso_normal_training_robustbench_Addepalli2021Towards_WRN34_cifar10_13\") & (df_meta.index.get_level_values(\"conv_depth_norm\") == 1)].filter_ids.apply(lambda x: get_scaled_filters(x, 16)).values)\n",
    "fig = plt.figure(figsize=(4, 4))\n",
    "grid = ImageGrid(fig, 111, nrows_ncols=(1, 16), axes_pad=0.0)\n",
    "\n",
    "for i, ax in enumerate(grid):\n",
    "    row_idx, col_idx  = divmod(i, data.shape[1])\n",
    "    ax.set_xticks([])\n",
    "    ax.set_yticks([])\n",
    "    ax.imshow(data[row_idx, col_idx].reshape(3, 3), cmap=LinearSegmentedColormap.from_list(\"CyanOrange\", [\"C0\", \"white\", \"C1\"]), vmin=-1, vmax=1)\n",
    "plt.savefig(\"/gavrikov/cvpr22w_RobustnessThroughTheLense/plots/last_filters_normal.pdf\", bbox_inches='tight')"
   ]
  },
  {
   "cell_type": "code",
   "execution_count": null,
   "id": "2fad370e",
   "metadata": {},
   "outputs": [],
   "source": [
    "todo = [(model_name, np.stack(df_meta[df_meta.Name == model_name].filter_ids.apply(get_scaled_filters))) for model_name in all_used_model_names]\n",
    "Parallel(n_jobs=-1)(delayed(plot_and_save_filter_grid)(name, data) for (name, data) in todo)"
   ]
  },
  {
   "cell_type": "code",
   "execution_count": 50,
   "id": "8e5abef8",
   "metadata": {},
   "outputs": [],
   "source": [
    "def plot_and_save_rgb_filter_grid(name, data):\n",
    "    fig = plt.figure(figsize=(8, 6))\n",
    "    grid = ImageGrid(fig, 111, nrows_ncols=(data.shape[0] // 16, 16), axes_pad=0.0)\n",
    "    for i, ax in enumerate(grid):\n",
    "        col_idx = i % data.shape[0]\n",
    "        row_idx = i // data.shape[0]\n",
    "\n",
    "        ax.set_xticks([])\n",
    "        ax.set_yticks([])\n",
    "\n",
    "        f = data[i].transpose(1, 2, 0)\n",
    "        #layer = layer - layer.min()\n",
    "        f = 0.5+0.5*f/np.abs(data).max()  \n",
    "        ax.imshow(f)\n",
    "            \n",
    "    plt.savefig(f\"plots/filters/rgb_filters_{name}.pdf\", bbox_inches='tight')"
   ]
  },
  {
   "cell_type": "code",
   "execution_count": null,
   "id": "d65f2630",
   "metadata": {},
   "outputs": [],
   "source": [
    "plot_and_save_rgb_filter_grid(, )"
   ]
  },
  {
   "cell_type": "code",
   "execution_count": null,
   "id": "63285bf4",
   "metadata": {},
   "outputs": [],
   "source": [
    "ids = [(model_name, df_meta.reset_index()[(df_meta.reset_index()[\"conv_depth\"] == 0) & (df_meta.reset_index()[\"Name\"] == model_name)].filter_ids.values) for model_name in all_used_model_names]\n",
    "todo = [(name, dX[idset[0]].reshape(-1, 3, 3, 3)) for (name, idset) in ids if len(idset) >= 1]\n",
    "Parallel(n_jobs=-1)(delayed(plot_and_save_rgb_filter_grid)(name, data) for (name, data) in todo)"
   ]
  }
 ],
 "metadata": {
  "kernelspec": {
   "display_name": "Python 3 (ipykernel)",
   "language": "python",
   "name": "python3"
  },
  "language_info": {
   "codemirror_mode": {
    "name": "ipython",
    "version": 3
   },
   "file_extension": ".py",
   "mimetype": "text/x-python",
   "name": "python",
   "nbconvert_exporter": "python",
   "pygments_lexer": "ipython3",
   "version": "3.8.12"
  }
 },
 "nbformat": 4,
 "nbformat_minor": 5
}
