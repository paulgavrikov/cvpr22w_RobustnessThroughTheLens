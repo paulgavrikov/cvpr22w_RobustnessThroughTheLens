{
 "cells": [
  {
   "cell_type": "code",
   "execution_count": 3,
   "id": "eb1548c1",
   "metadata": {},
   "outputs": [],
   "source": [
    "import numpy as np\n",
    "from sklearn.decomposition import PCA\n",
    "import pandas as pd\n",
    "from multiprocessing import Pool\n",
    "import matplotlib.pyplot as plt\n",
    "import matplotlib.gridspec as grid_spec\n",
    "from KDEpy import FFTKDE\n",
    "from tqdm.auto import tqdm\n",
    "from math import ceil\n",
    "import itertools\n",
    "import scipy\n",
    "from fast_histogram import histogram2d\n",
    "import colorcet as cc\n",
    "import matplotlib.colors as colors\n",
    "import h5py\n",
    "import io\n",
    "import cloudpickle as cpl\n",
    "from collections import defaultdict\n",
    "import os\n",
    "from joblib import Parallel, delayed\n",
    "\n",
    "lmap = lambda func, *iterable: list(map(func, *iterable))"
   ]
  },
  {
   "cell_type": "code",
   "execution_count": 4,
   "id": "520abc46",
   "metadata": {},
   "outputs": [],
   "source": [
    "dataset_path = \"/data/output/20220226_robustness/dataset.h5\""
   ]
  },
  {
   "cell_type": "code",
   "execution_count": 5,
   "id": "551ad9d1",
   "metadata": {},
   "outputs": [],
   "source": [
    "with h5py.File(dataset_path, \"r\") as f:\n",
    "    dX = f[\"filters\"][:].reshape(-1, 9) "
   ]
  },
  {
   "cell_type": "code",
   "execution_count": 6,
   "id": "aad32148",
   "metadata": {},
   "outputs": [],
   "source": [
    "df_meta = pd.read_hdf(dataset_path, \"meta\")\n",
    "df_meta[\"filter_ids\"] = df_meta[\"filter_ids\"].apply(lambda s: np.arange(int(s.split(\":\")[0]), 1 + int(s.split(\":\")[1])))\n",
    "df_meta.Robust = df_meta.Robust.apply(bool)"
   ]
  },
  {
   "cell_type": "code",
   "execution_count": 7,
   "id": "993532f0",
   "metadata": {},
   "outputs": [],
   "source": [
    "df_pairings = pd.read_csv(\"robust_vs_normal_pairings.csv\", index_col=0)\n",
    "all_used_model_names = pd.concat([df_pairings.Robust, df_pairings.Normal]).unique()"
   ]
  },
  {
   "cell_type": "code",
   "execution_count": 8,
   "id": "5c2d4be0",
   "metadata": {},
   "outputs": [],
   "source": [
    "def get_scaled_filters(ids):\n",
    "    filters = dX[ids[:32]]\n",
    "    t = np.abs(filters).max()\n",
    "    if t == 0:\n",
    "        return filters\n",
    "    return filters / t\n",
    "\n",
    "todo = [(model_name, np.stack(df_meta[df_meta.Name == model_name].filter_ids.apply(get_scaled_filters))) for model_name in all_used_model_names]"
   ]
  },
  {
   "cell_type": "code",
   "execution_count": 2,
   "id": "babdad50",
   "metadata": {},
   "outputs": [],
   "source": [
    "from mpl_toolkits.axes_grid1 import ImageGrid\n",
    "\n",
    "def plot_and_save_filter_grid(name, data):\n",
    "    \n",
    "    from matplotlib.colors import LinearSegmentedColormap\n",
    "    \n",
    "    fig = plt.figure(figsize=(8, 6))\n",
    "    grid = ImageGrid(fig, 111, nrows_ncols=data.shape[:2], axes_pad=0.0)\n",
    "\n",
    "    for i, ax in enumerate(grid):\n",
    "        col_idx = i % data.shape[1]\n",
    "        row_idx = i // data.shape[1]\n",
    "\n",
    "        if col_idx == 0:\n",
    "            ax.set_ylabel(str(row_idx), rotation=0, ha=\"left\", va=\"center_baseline\", labelpad=15)\n",
    "\n",
    "        ax.set_xticks([])\n",
    "        ax.set_yticks([])\n",
    "        ax.imshow(data[row_idx, col_idx].reshape(3, 3), cmap=LinearSegmentedColormap.from_list(\"CyanOrange\", [\"C0\", \"white\", \"C1\"]), vmin=-1, vmax=1)\n",
    "        \n",
    "    plt.savefig(f\"plots/filters/filters_{name}.pdf\", bbox_inches='tight')\n",
    "    return 0"
   ]
  },
  {
   "cell_type": "code",
   "execution_count": null,
   "id": "8ecb6c73",
   "metadata": {},
   "outputs": [],
   "source": [
    "Parallel(n_jobs=-1)(delayed(plot_and_save_filter_grid)(name, data) for (name, data) in todo)"
   ]
  },
  {
   "cell_type": "code",
   "execution_count": 1,
   "id": "0e80b0f7",
   "metadata": {},
   "outputs": [
    {
     "ename": "NameError",
     "evalue": "name 'all_used_model_names' is not defined",
     "output_type": "error",
     "traceback": [
      "\u001b[0;31m---------------------------------------------------------------------------\u001b[0m",
      "\u001b[0;31mNameError\u001b[0m                                 Traceback (most recent call last)",
      "\u001b[0;32m/tmp/ipykernel_28351/4176563232.py\u001b[0m in \u001b[0;36m<module>\u001b[0;34m\u001b[0m\n\u001b[0;32m----> 1\u001b[0;31m \u001b[0mids\u001b[0m \u001b[0;34m=\u001b[0m \u001b[0;34m[\u001b[0m\u001b[0;34m(\u001b[0m\u001b[0mmodel_name\u001b[0m\u001b[0;34m,\u001b[0m \u001b[0mdf_meta\u001b[0m\u001b[0;34m.\u001b[0m\u001b[0mreset_index\u001b[0m\u001b[0;34m(\u001b[0m\u001b[0;34m)\u001b[0m\u001b[0;34m[\u001b[0m\u001b[0;34m(\u001b[0m\u001b[0mdf_meta\u001b[0m\u001b[0;34m.\u001b[0m\u001b[0mreset_index\u001b[0m\u001b[0;34m(\u001b[0m\u001b[0;34m)\u001b[0m\u001b[0;34m[\u001b[0m\u001b[0;34m\"conv_depth\"\u001b[0m\u001b[0;34m]\u001b[0m \u001b[0;34m==\u001b[0m \u001b[0;36m0\u001b[0m\u001b[0;34m)\u001b[0m \u001b[0;34m&\u001b[0m \u001b[0;34m(\u001b[0m\u001b[0mdf_meta\u001b[0m\u001b[0;34m.\u001b[0m\u001b[0mreset_index\u001b[0m\u001b[0;34m(\u001b[0m\u001b[0;34m)\u001b[0m\u001b[0;34m[\u001b[0m\u001b[0;34m\"Name\"\u001b[0m\u001b[0;34m]\u001b[0m \u001b[0;34m==\u001b[0m \u001b[0mmodel_name\u001b[0m\u001b[0;34m)\u001b[0m\u001b[0;34m]\u001b[0m\u001b[0;34m.\u001b[0m\u001b[0mfilter_ids\u001b[0m\u001b[0;34m.\u001b[0m\u001b[0mvalues\u001b[0m\u001b[0;34m)\u001b[0m \u001b[0;32mfor\u001b[0m \u001b[0mmodel_name\u001b[0m \u001b[0;32min\u001b[0m \u001b[0mall_used_model_names\u001b[0m\u001b[0;34m]\u001b[0m\u001b[0;34m\u001b[0m\u001b[0;34m\u001b[0m\u001b[0m\n\u001b[0m\u001b[1;32m      2\u001b[0m \u001b[0mtodo\u001b[0m \u001b[0;34m=\u001b[0m \u001b[0;34m[\u001b[0m\u001b[0;34m(\u001b[0m\u001b[0mname\u001b[0m\u001b[0;34m,\u001b[0m \u001b[0mdX\u001b[0m\u001b[0;34m[\u001b[0m\u001b[0midset\u001b[0m\u001b[0;34m[\u001b[0m\u001b[0;36m0\u001b[0m\u001b[0;34m]\u001b[0m\u001b[0;34m]\u001b[0m\u001b[0;34m.\u001b[0m\u001b[0mreshape\u001b[0m\u001b[0;34m(\u001b[0m\u001b[0;34m-\u001b[0m\u001b[0;36m1\u001b[0m\u001b[0;34m,\u001b[0m \u001b[0;36m3\u001b[0m\u001b[0;34m,\u001b[0m \u001b[0;36m3\u001b[0m\u001b[0;34m,\u001b[0m \u001b[0;36m3\u001b[0m\u001b[0;34m)\u001b[0m\u001b[0;34m)\u001b[0m \u001b[0;32mfor\u001b[0m \u001b[0;34m(\u001b[0m\u001b[0mname\u001b[0m\u001b[0;34m,\u001b[0m \u001b[0midset\u001b[0m\u001b[0;34m)\u001b[0m \u001b[0;32min\u001b[0m \u001b[0mids\u001b[0m \u001b[0;32mif\u001b[0m \u001b[0mlen\u001b[0m\u001b[0;34m(\u001b[0m\u001b[0midset\u001b[0m\u001b[0;34m)\u001b[0m \u001b[0;34m>=\u001b[0m \u001b[0;36m1\u001b[0m\u001b[0;34m]\u001b[0m\u001b[0;34m\u001b[0m\u001b[0;34m\u001b[0m\u001b[0m\n\u001b[1;32m      3\u001b[0m \u001b[0;34m\u001b[0m\u001b[0m\n\u001b[1;32m      4\u001b[0m \u001b[0;32mdef\u001b[0m \u001b[0mplot_and_save_rgb_filter_grid\u001b[0m\u001b[0;34m(\u001b[0m\u001b[0mname\u001b[0m\u001b[0;34m,\u001b[0m \u001b[0mdata\u001b[0m\u001b[0;34m)\u001b[0m\u001b[0;34m:\u001b[0m\u001b[0;34m\u001b[0m\u001b[0;34m\u001b[0m\u001b[0m\n\u001b[1;32m      5\u001b[0m     \u001b[0mfig\u001b[0m \u001b[0;34m=\u001b[0m \u001b[0mplt\u001b[0m\u001b[0;34m.\u001b[0m\u001b[0mfigure\u001b[0m\u001b[0;34m(\u001b[0m\u001b[0mfigsize\u001b[0m\u001b[0;34m=\u001b[0m\u001b[0;34m(\u001b[0m\u001b[0;36m8\u001b[0m\u001b[0;34m,\u001b[0m \u001b[0;36m6\u001b[0m\u001b[0;34m)\u001b[0m\u001b[0;34m)\u001b[0m\u001b[0;34m\u001b[0m\u001b[0;34m\u001b[0m\u001b[0m\n",
      "\u001b[0;31mNameError\u001b[0m: name 'all_used_model_names' is not defined"
     ]
    }
   ],
   "source": [
    "ids = [(model_name, df_meta.reset_index()[(df_meta.reset_index()[\"conv_depth\"] == 0) & (df_meta.reset_index()[\"Name\"] == model_name)].filter_ids.values) for model_name in all_used_model_names]\n",
    "todo = [(name, dX[idset[0]].reshape(-1, 3, 3, 3)) for (name, idset) in ids if len(idset) >= 1]\n",
    "\n",
    "def plot_and_save_rgb_filter_grid(name, data):\n",
    "    fig = plt.figure(figsize=(8, 6))\n",
    "    grid = ImageGrid(fig, 111, nrows_ncols=(data.shape[0] // 16, 16), axes_pad=0.0)\n",
    "    for i, ax in enumerate(grid):\n",
    "        col_idx = i % data.shape[0]\n",
    "        row_idx = i // data.shape[0]\n",
    "\n",
    "        ax.set_xticks([])\n",
    "        ax.set_yticks([])\n",
    "\n",
    "        f = data[i].transpose(1, 2, 0)\n",
    "        #layer = layer - layer.min()\n",
    "        f = 0.5+0.5*f/np.abs(data).max()  \n",
    "        ax.imshow(f)\n",
    "            \n",
    "    plt.savefig(f\"plots/filters/rgb_filters_{name}.pdf\", bbox_inches='tight')"
   ]
  },
  {
   "cell_type": "code",
   "execution_count": null,
   "id": "7fe3999c",
   "metadata": {},
   "outputs": [],
   "source": [
    "plot_and_save_rgb_filter_grid(, )"
   ]
  },
  {
   "cell_type": "code",
   "execution_count": null,
   "id": "4385f4ff",
   "metadata": {},
   "outputs": [],
   "source": [
    "Parallel(n_jobs=-1)(delayed(plot_and_save_rgb_filter_grid)(name, data) for (name, data) in todo)"
   ]
  }
 ],
 "metadata": {
  "kernelspec": {
   "display_name": "Python 3 (ipykernel)",
   "language": "python",
   "name": "python3"
  },
  "language_info": {
   "codemirror_mode": {
    "name": "ipython",
    "version": 3
   },
   "file_extension": ".py",
   "mimetype": "text/x-python",
   "name": "python",
   "nbconvert_exporter": "python",
   "pygments_lexer": "ipython3",
   "version": "3.8.12"
  }
 },
 "nbformat": 4,
 "nbformat_minor": 5
}
