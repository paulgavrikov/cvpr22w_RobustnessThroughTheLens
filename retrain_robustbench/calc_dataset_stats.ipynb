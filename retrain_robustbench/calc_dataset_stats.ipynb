{
 "cells": [
  {
   "cell_type": "code",
   "execution_count": 81,
   "id": "3d4fa5e1",
   "metadata": {},
   "outputs": [],
   "source": [
    "from torchvision.datasets import CIFAR10, CIFAR100, MNIST, KMNIST, FashionMNIST\n",
    "import numpy as np\n",
    "from torchvision import transforms\n",
    "import matplotlib.pyplot as plt"
   ]
  },
  {
   "cell_type": "code",
   "execution_count": 40,
   "id": "a005a558",
   "metadata": {},
   "outputs": [
    {
     "data": {
      "text/plain": [
       "(torch.Size([60000, 28, 28]), tensor(0.1918), tensor(0.3483))"
      ]
     },
     "execution_count": 40,
     "metadata": {},
     "output_type": "execute_result"
    }
   ],
   "source": [
    "d = KMNIST(root=\"/data/datasets/kmnist\", train=True).data\n",
    "d = d / 255.\n",
    "d.shape, d.mean(), d.std()"
   ]
  },
  {
   "cell_type": "code",
   "execution_count": 41,
   "id": "c0acd184",
   "metadata": {},
   "outputs": [
    {
     "data": {
      "text/plain": [
       "(torch.Size([60000, 28, 28]), tensor(0.1307), tensor(0.3081))"
      ]
     },
     "execution_count": 41,
     "metadata": {},
     "output_type": "execute_result"
    }
   ],
   "source": [
    "d = MNIST(root=\"/data/datasets/mnist\", train=True).data\n",
    "d = d / 255.\n",
    "d.shape, d.mean(), d.std()"
   ]
  },
  {
   "cell_type": "code",
   "execution_count": 79,
   "id": "e859697c",
   "metadata": {},
   "outputs": [
    {
     "data": {
      "text/plain": [
       "(torch.Size([60000, 28, 28]), tensor(0.2860), tensor(0.3530))"
      ]
     },
     "execution_count": 79,
     "metadata": {},
     "output_type": "execute_result"
    }
   ],
   "source": [
    "d = FashionMNIST(root=\"/data/datasets/fashionmnist\", train=True).data\n",
    "d = d / 255.\n",
    "d.shape, d.mean(), d.std()"
   ]
  },
  {
   "cell_type": "code",
   "execution_count": 77,
   "id": "9e5a4408",
   "metadata": {},
   "outputs": [
    {
     "data": {
      "text/plain": [
       "((51200000, 3),\n",
       " array([0.49139968, 0.48215841, 0.44653091]),\n",
       " array([0.24703223, 0.24348513, 0.26158784]))"
      ]
     },
     "execution_count": 77,
     "metadata": {},
     "output_type": "execute_result"
    }
   ],
   "source": [
    "d = CIFAR10(root=\"/data/datasets/cifar10\", train=True).data\n",
    "d = d.reshape(-1, 3) / 255.\n",
    "d.shape, d.mean(axis=0), d.std(axis=0)"
   ]
  },
  {
   "cell_type": "code",
   "execution_count": 78,
   "id": "94f6fb76",
   "metadata": {},
   "outputs": [
    {
     "data": {
      "text/plain": [
       "((51200000, 3),\n",
       " array([0.50707516, 0.48654887, 0.44091784]),\n",
       " array([0.26733429, 0.25643846, 0.27615047]))"
      ]
     },
     "execution_count": 78,
     "metadata": {},
     "output_type": "execute_result"
    }
   ],
   "source": [
    "d = CIFAR100(root=\"/data/datasets/cifar100\", train=True).data\n",
    "d = d.reshape(-1, 3) / 255.\n",
    "d.shape, d.mean(axis=0), d.std(axis=0)"
   ]
  }
 ],
 "metadata": {
  "kernelspec": {
   "display_name": "Python 3",
   "language": "python",
   "name": "python3"
  },
  "language_info": {
   "codemirror_mode": {
    "name": "ipython",
    "version": 3
   },
   "file_extension": ".py",
   "mimetype": "text/x-python",
   "name": "python",
   "nbconvert_exporter": "python",
   "pygments_lexer": "ipython3",
   "version": "3.8.8"
  }
 },
 "nbformat": 4,
 "nbformat_minor": 5
}
