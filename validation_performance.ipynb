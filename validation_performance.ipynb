{
 "cells": [
  {
   "cell_type": "code",
   "execution_count": 9,
   "id": "8bd342b0",
   "metadata": {},
   "outputs": [
    {
     "name": "stdout",
     "output_type": "stream",
     "text": [
      "Looking in indexes: https://pypi.org/simple, https://pypi.ngc.nvidia.com\n",
      "Collecting onnxruntime\n",
      "  Downloading onnxruntime-1.10.0-cp38-cp38-manylinux_2_17_x86_64.manylinux2014_x86_64.whl (4.9 MB)\n",
      "\u001b[K     |████████████████████████████████| 4.9 MB 5.9 MB/s eta 0:00:01\n",
      "\u001b[?25hCollecting flatbuffers\n",
      "  Downloading flatbuffers-2.0-py2.py3-none-any.whl (26 kB)\n",
      "Requirement already satisfied: protobuf in /opt/conda/lib/python3.8/site-packages (from onnxruntime) (3.19.1)\n",
      "Requirement already satisfied: numpy>=1.16.6 in /opt/conda/lib/python3.8/site-packages (from onnxruntime) (1.21.4)\n",
      "Installing collected packages: flatbuffers, onnxruntime\n",
      "Successfully installed flatbuffers-2.0 onnxruntime-1.10.0\n",
      "\u001b[33mWARNING: Running pip as the 'root' user can result in broken permissions and conflicting behaviour with the system package manager. It is recommended to use a virtual environment instead: https://pip.pypa.io/warnings/venv\u001b[0m\n",
      "Note: you may need to restart the kernel to use updated packages.\n"
     ]
    }
   ],
   "source": [
    "pip install onnxruntime"
   ]
  },
  {
   "cell_type": "code",
   "execution_count": 34,
   "id": "c9d95a1f",
   "metadata": {},
   "outputs": [],
   "source": [
    "import robustbench\n",
    "from robustbench.utils import load_model\n",
    "from tqdm import tqdm\n",
    "import os\n",
    "import torch\n",
    "from autoattack import AutoAttack\n",
    "from robustbench.data import _load_dataset\n",
    "from torchvision import transforms, datasets\n",
    "import robustbench\n",
    "from robustbench.utils import load_model\n",
    "import os\n",
    "import torch\n",
    "import multiprocessing as mp\n",
    "import pandas as pd\n",
    "import sys\n",
    "sys.path.append(\"/gavrikov/pytorch-pretrained-cnns\")\n",
    "import data\n",
    "import models\n",
    "from glob import glob\n",
    "from collections import defaultdict\n",
    "import onnxruntime\n",
    "import numpy as np\n",
    "import onnx\n",
    "import struct\n",
    "from joblib import Parallel, delayed"
   ]
  },
  {
   "cell_type": "code",
   "execution_count": 11,
   "id": "820ac62a",
   "metadata": {},
   "outputs": [],
   "source": [
    "dataset_to_model_dict = defaultdict(list)\n",
    "\n",
    "for path in glob(\"/ssd1/robustness_onnx_zoo/*/*.onnx\"):\n",
    "    ds = \"imagenet\"\n",
    "    if \"_cifar10_\" in path:\n",
    "        ds = \"cifar10\"\n",
    "    elif \"_cifar100_\" in path:\n",
    "        ds = \"cifar100\"\n",
    "    \n",
    "    dataset_to_model_dict[ds].append(path)"
   ]
  },
  {
   "cell_type": "code",
   "execution_count": 39,
   "id": "d4802022",
   "metadata": {},
   "outputs": [
    {
     "name": "stdout",
     "output_type": "stream",
     "text": [
      "Files already downloaded and verified\n",
      "Files already downloaded and verified\n"
     ]
    }
   ],
   "source": [
    "evaluation = []\n",
    "\n",
    "def inference_accuracy(model_path, x, y):\n",
    "    try:   \n",
    "        ort_session = onnxruntime.InferenceSession(model_path)\n",
    "        ort_inputs = {ort_session.get_inputs()[0].name: x}\n",
    "        acc = (ort_session.run(None, ort_inputs)[0].argmax(axis=1) == y).mean()\n",
    "        return (model_path, dataset, acc)\n",
    "    except Exception as e:\n",
    "        return (model_path, dataset, str(type(e)) + str(e))\n",
    "\n",
    "def to_numpy(tensor):\n",
    "    return tensor.detach().cpu().numpy() if tensor.requires_grad else tensor.cpu().numpy()\n",
    "\n",
    "for dataset, model_paths in dataset_to_model_dict.items():\n",
    "    \n",
    "    if dataset == \"cifar10\":\n",
    "        ds = data.CIFAR10Data(\"/data/datasets/cifar10\", 256, 8, normalize=False)\n",
    "    elif dataset == \"cifar100\":\n",
    "        ds = data.CIFAR100Data(\"/data/datasets/cifar100\", 256, 8, normalize=False)\n",
    "    elif dataset == \"imagenet\":\n",
    "        ds = data.ImageNet1kData(\"/data/datasets/imagenet1k\", 256, 8, normalize=False)\n",
    "    \n",
    "    x, y = next(iter(ds.test_dataloader()))\n",
    "    x = x.numpy()\n",
    "    y = y.numpy()\n",
    "    \n",
    "    results = Parallel(n_jobs=16)(delayed(inference_accuracy)(model_path, x, y) for model_path in model_paths)\n",
    "    evaluation.extend(results)"
   ]
  },
  {
   "cell_type": "code",
   "execution_count": 41,
   "id": "5e889c26",
   "metadata": {},
   "outputs": [],
   "source": [
    "pd.DataFrame(evaluation, columns=[\"ID\", \"Dataset\", \"Single Batch Eval\"]).set_index(\"ID\").to_csv(\"val_performance.csv\")"
   ]
  }
 ],
 "metadata": {
  "kernelspec": {
   "display_name": "Python 3 (ipykernel)",
   "language": "python",
   "name": "python3"
  },
  "language_info": {
   "codemirror_mode": {
    "name": "ipython",
    "version": 3
   },
   "file_extension": ".py",
   "mimetype": "text/x-python",
   "name": "python",
   "nbconvert_exporter": "python",
   "pygments_lexer": "ipython3",
   "version": "3.8.12"
  }
 },
 "nbformat": 4,
 "nbformat_minor": 5
}
